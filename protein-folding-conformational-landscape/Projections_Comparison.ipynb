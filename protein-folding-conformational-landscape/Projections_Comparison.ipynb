{
 "cells": [
  {
   "cell_type": "code",
   "execution_count": null,
   "id": "5d8b06f4",
   "metadata": {},
   "outputs": [],
   "source": [
    "import warnings\n",
    "warnings.filterwarnings(\"ignore\")\n",
    "import os, sys\n",
    "#sys.path.insert(0,\"/home/suman/Sayari/TrP-cage/Notebooks_Trpcage\") # File directory\n",
    "#import modules\n",
    "import numpy as np\n",
    "import MDAnalysis as mda\n",
    "from sklearn.preprocessing import MinMaxScaler\n",
    "import pyemma\n",
    "import matplotlib.pyplot as plt\n",
    "##custom scripts\n",
    "from runner import Feature\n",
    "from plot2d import plot_free_energy as pfe"
   ]
  },
  {
   "cell_type": "code",
   "execution_count": null,
   "id": "ac77cb6c",
   "metadata": {},
   "outputs": [],
   "source": [
    "plt.style.use(\"Sayari/TrP-cage/style.txt\") # give path to this style.txt file\n",
    "\n",
    "def Ticker(ax):\n",
    "    \"\"\"\n",
    "    Styles the matplotlib axis..\n",
    "\n",
    "    \"\"\"\n",
    "    from matplotlib.ticker import AutoMinorLocator\n",
    "    minor_locator = AutoMinorLocator(2)\n",
    "    ax.xaxis.set_minor_locator(minor_locator)\n",
    "    minor_locator = AutoMinorLocator(2)\n",
    "    ax.yaxis.set_minor_locator(minor_locator)\n",
    "    return ax"
   ]
  },
  {
   "cell_type": "code",
   "execution_count": 8,
   "id": "be1aa146",
   "metadata": {},
   "outputs": [],
   "source": [
    "## De Shaw TRP-Cage 208 micro-sec trajectory\n",
    "path = \"/home/suman/Dibyendu/Trp-Cage-folding/DESRES-Trajectory_2JOF-0-protein/2JOF-0-protein/\"\n",
    "files = os.listdir(path)\n",
    "traj_list = []\n",
    "for file in files:\n",
    "    if file.endswith(\".dcd\"):\n",
    "        traj_list.append(path + file)\n",
    "\n",
    "sorted_traj_list = list(np.sort(traj_list))\n",
    "trp_cage = mda.Universe(\"/home/suman/Sayari/TrP-cage/trp_cage.pdb\", sorted_traj_list )"
   ]
  },
  {
   "cell_type": "code",
   "execution_count": null,
   "id": "cb58cd9e-6714-43e5-a77d-c3ba342de84b",
   "metadata": {},
   "outputs": [],
   "source": [
    "## Features...give the important contact pairs that have discriminative powers..\n",
    "#If you used other features calculate them accordingly and then scale them"
   ]
  },
  {
   "cell_type": "code",
   "execution_count": 9,
   "id": "907cd5cb",
   "metadata": {},
   "outputs": [],
   "source": [
    "contacts = np.loadtxt('contacts_CA.txt').astype(int) #.txt file of contact pairs of our interest\n",
    "feats = Feature()\n",
    "feats.contacts = np.array(contacts)\n",
    "feats.prepare_contacts(mode=\"distance\")\n",
    "feats.feature_extraction(mda_universe=trp_cage)\n",
    "ca_dist=feats.features\n",
    "np.savetxt(\"pairwise_dist.txt\", ca_dist)"
   ]
  },
  {
   "cell_type": "code",
   "execution_count": 10,
   "id": "a2a7f8c9",
   "metadata": {},
   "outputs": [],
   "source": [
    "## Scaling of data..\n",
    "scaler = MinMaxScaler()\n",
    "scaler.fit(ca_dist)\n",
    "scaled_dist = scaler.transform(ca_dist)"
   ]
  },
  {
   "cell_type": "markdown",
   "id": "44554e54",
   "metadata": {},
   "source": [
    "# VAE"
   ]
  },
  {
   "cell_type": "code",
   "execution_count": 5,
   "id": "c2118ae4",
   "metadata": {},
   "outputs": [],
   "source": [
    "from VAE import VAE\n",
    "from sklearn.model_selection import train_test_split\n",
    "import torch"
   ]
  },
  {
   "cell_type": "code",
   "execution_count": null,
   "id": "3986a959",
   "metadata": {},
   "outputs": [],
   "source": [
    "#torch.save(model.state_dict(),\"/home/suman/Sayari/TrP-cage/Trp_cage_VAE.pt\")"
   ]
  },
  {
   "cell_type": "code",
   "execution_count": null,
   "id": "27701126",
   "metadata": {},
   "outputs": [],
   "source": [
    "# Train Model\n",
    "model =  VAE (input_dim=190, num_layers=2, nodes=[1024, 512], code = 2, beta=1.0,batch_size=64,epochs=100,thresh=0.5,learning_rate=0.0001,activation=\"GELU\")\n",
    "model.load_state_dict(torch.load(\"path/Trp_cage_VAE.pt\")) # Give correct path to .pt file\n",
    "model.eval()"
   ]
  },
  {
   "cell_type": "code",
   "execution_count": 11,
   "id": "891936d1",
   "metadata": {},
   "outputs": [],
   "source": [
    "model.eval().to('cpu')\n",
    "mu_trp_cage = model.encode(torch.Tensor(scaled_dist))[1].detach().numpy()"
   ]
  },
  {
   "cell_type": "markdown",
   "id": "2795ddc1",
   "metadata": {},
   "source": [
    "# TICA"
   ]
  },
  {
   "cell_type": "code",
   "execution_count": 19,
   "id": "1e58dbec",
   "metadata": {},
   "outputs": [
    {
     "data": {
      "application/vnd.jupyter.widget-view+json": {
       "model_id": "21404d9067dc4511aa0801f7a73e0a88",
       "version_major": 2,
       "version_minor": 0
      },
      "text/plain": [
       "calculate covariances:   0%|                                                                      | 0/6 [00:00…"
      ]
     },
     "metadata": {},
     "output_type": "display_data"
    }
   ],
   "source": [
    "Distances_tica=ca_dist.reshape(1,1044000,190)\n",
    "tica = pyemma.coordinates.tica(list(Distances_tica), lag=250) #lagtime 50ns"
   ]
  },
  {
   "cell_type": "code",
   "execution_count": 20,
   "id": "ec3e496c",
   "metadata": {},
   "outputs": [
    {
     "data": {
      "application/vnd.jupyter.widget-view+json": {
       "model_id": "f100ab689cf84ec6a7890c12b67b29e1",
       "version_major": 2,
       "version_minor": 0
      },
      "text/plain": [
       "getting output of TICA:   0%|                                                                     | 0/6 [00:00…"
      ]
     },
     "metadata": {},
     "output_type": "display_data"
    }
   ],
   "source": [
    "tica_output = tica.get_output()\n",
    "tica_concatenated = np.concatenate(tica_output)"
   ]
  },
  {
   "cell_type": "markdown",
   "id": "d3531de4",
   "metadata": {},
   "source": [
    "# PCA"
   ]
  },
  {
   "cell_type": "code",
   "execution_count": 24,
   "id": "68877622",
   "metadata": {},
   "outputs": [],
   "source": [
    "from sklearn.decomposition import PCA\n",
    "pca = PCA(n_components=2)\n",
    "pca.fit(scaled_dist)\n",
    "X_train_pca = pca.transform(scaled_dist)"
   ]
  },
  {
   "cell_type": "markdown",
   "id": "f1e22ace",
   "metadata": {},
   "source": [
    "# Projection Comparison"
   ]
  },
  {
   "cell_type": "code",
   "execution_count": null,
   "id": "96a3800e",
   "metadata": {
    "scrolled": true
   },
   "outputs": [],
   "source": [
    "fig, axs = plt.subplots(1, 3, sharex=False, sharey=False,\n",
    "                         gridspec_kw={'hspace': 0.01},figsize=[26,6])\n",
    "#Ticker(ax\n",
    "#Ticker(ax)\n",
    "#line_labels = [\"Monomer\", \"Pentamer-ChainA\", \"Pentamer-ChainB\", \"Pentamer-ChainC\",\"Pentamer-ChainD\",\"Pentamer-ChainE\"]\n",
    "(ax1, ax2,ax3)= axs\n",
    "Ticker(ax1)\n",
    "_, _, misc = pfe(X_train_pca[:,0][::][:], X_train_pca[:,1][::],ax=ax1, zorder = 10,cbar=True, legacy = False)\n",
    "misc['cbar'].set_label('Free Energy/kT', fontsize = 20, color = \"darkred\", fontweight = \"bold\")\n",
    "ax1.set_title(\"PCA Projection\",fontsize=30,loc=\"center\")\n",
    "#ax1.set_ylabel(r\"$PC_2$\",fontsize=20)\n",
    "ax1.set_xlim(-2.6,3.8)\n",
    "ax1.set_ylim(-2.5,3.8)\n",
    "ax1.set_xlabel(\"PC1\",fontsize=30)\n",
    "ax1.set_ylabel(\"PC2\",fontsize=30)\n",
    "\n",
    "Ticker(ax2)\n",
    "_, _, misc = pfe(tica_concatenated[:,0][::][:], tica_concatenated[:,1][::],ax=ax2, zorder = 10,cbar=True, legacy = False)\n",
    "misc['cbar'].set_label('Free Energy/kT', fontsize = 20, color = \"darkred\", fontweight = \"bold\")\n",
    "\n",
    "ax2.set_title(\"TICA Projection\",fontsize=30,loc=\"center\")\n",
    "ax2.set_ylim(-2.3,3)\n",
    "ax2.set_xlim(-2.6,1.2)\n",
    "ax2.set_xlabel(\"IC1\",fontsize=30)\n",
    "ax2.set_ylabel(\"IC2\",fontsize=30)\n",
    "\n",
    "Ticker(ax3)\n",
    "_, _, misc = pfe(mu_trp_cage[:,0][::][:], mu_trp_cage[:,1][::],ax=ax3, zorder = 10,cbar=True, legacy = False)\n",
    "misc['cbar'].set_label('Free Energy/kT', fontsize = 20, color = \"darkred\", fontweight = \"bold\")\n",
    "ax3.set_title(\"VAE Projection\",fontsize=30,loc=\"center\")\n",
    "ax3.set_ylim(-2.0,2)\n",
    "ax3.set_xlim(-2.6,1.8)\n",
    "ax3.set_xlabel(r\"$\\mu_1$\",fontsize=30)\n",
    "ax3.set_ylabel(r\"$\\mu_2$\",fontsize=30)\n",
    "fig.tight_layout()"
   ]
  },
  {
   "cell_type": "code",
   "execution_count": null,
   "id": "92107c64",
   "metadata": {},
   "outputs": [],
   "source": []
  }
 ],
 "metadata": {
  "kernelspec": {
   "display_name": "Python 3 (ipykernel)",
   "language": "python",
   "name": "python3"
  },
  "language_info": {
   "codemirror_mode": {
    "name": "ipython",
    "version": 3
   },
   "file_extension": ".py",
   "mimetype": "text/x-python",
   "name": "python",
   "nbconvert_exporter": "python",
   "pygments_lexer": "ipython3",
   "version": "3.13.1"
  }
 },
 "nbformat": 4,
 "nbformat_minor": 5
}
