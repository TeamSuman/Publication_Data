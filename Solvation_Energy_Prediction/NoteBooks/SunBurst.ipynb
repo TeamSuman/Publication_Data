{
 "cells": [
  {
   "cell_type": "code",
   "execution_count": 1,
   "id": "5de1d377",
   "metadata": {},
   "outputs": [],
   "source": [
    "import numpy as np\n",
    "import pandas as pd\n",
    "import matplotlib.pyplot as plt"
   ]
  },
  {
   "cell_type": "code",
   "execution_count": 2,
   "id": "53c5a950",
   "metadata": {},
   "outputs": [],
   "source": [
    "combine_data = {'alcohol (D1)': {2, 9, 12, 16},\n",
    " 'alkene (D1)': {10},\n",
    " 'carboxylic_acid (D1)': {2, 9},\n",
    " 'ester (D1)': {0, 10},\n",
    " 'ether (D1)': {0, 10},\n",
    " 'ketone (D1)': {16},\n",
    " 'sulfide (D1)': {25},\n",
    " 'primary_amine (D1)': {8},\n",
    " 'phenol (D1)': {9},\n",
    " 'polyol (D1)': {9, 12},\n",
    " 'pyridyl (D1)': {2},\n",
    " 'haloalkane (D1)': {2},\n",
    " 'amine (D1)': {8, 16},\n",
    " 'alcohol (D2)': {13, 27, 29},\n",
    " 'carboxylic_acid (D2)': {27, 29},\n",
    " 'ester (D2)': {27},\n",
    " 'ether (D2)': {27},\n",
    " 'ketone (D2)': {13, 17},\n",
    " 'primary_amine (D2)': {17, 23},\n",
    " 'haloalkane (D2)': {23, 29},\n",
    " 'amine (D2)': {17, 23, 29},\n",
    " 'alcohol (D3)': {7},\n",
    " 'ester (D3)': {7},\n",
    " 'ether (D3)': {7},\n",
    " 'ketone (D3)': {7},\n",
    " 'phenol (D3)': {7},\n",
    " 'polyol (D3)': {7},\n",
    " 'alcohol (D4)': {1},\n",
    " 'carboxylic_acid (D4)': {1},\n",
    " 'ester (D4)': {24},\n",
    " 'ether (D4)': {24},\n",
    " 'ketone (D4)': {26},\n",
    " 'primary_amine (D4)': {26},\n",
    " 'sulfone (D4)': {24},\n",
    " 'polyol (D4)': {1},\n",
    " 'amine (D4)': {26},\n",
    " 'alcohol (D5)': {6},\n",
    " 'carboxylic_acid (D5)': {6},\n",
    " 'nitro (D5)': {6},\n",
    " 'polyol (D5)': {6},\n",
    " 'haloalkane (D5)': {20},\n",
    " 'alcohol (D7)': {28},\n",
    " 'carboxylic_acid (D7)': {28},\n",
    " 'ester (D7)': {3},\n",
    " 'ether (D7)': {3},\n",
    " 'haloalkane (D7)': {28},\n",
    " 'amine (D7)': {28},\n",
    " 'ester (D8)': {15},\n",
    " 'ether (D8)': {15}}"
   ]
  },
  {
   "cell_type": "code",
   "execution_count": 3,
   "id": "b1237854",
   "metadata": {},
   "outputs": [],
   "source": [
    "elem_list = []\n",
    "for data in combine_data:\n",
    "    val = combine_data[data]\n",
    "\n",
    "    for elem in val:\n",
    "        key = data.split()\n",
    "        key.extend([elem])\n",
    "        elem_list.append(key)"
   ]
  },
  {
   "cell_type": "code",
   "execution_count": 4,
   "id": "b5062929",
   "metadata": {},
   "outputs": [],
   "source": [
    "df = pd.DataFrame(elem_list, columns=['fg', 'gr', 'com'])\n",
    "df['gr'] = df['gr'].apply(lambda x: x[1:-1] )"
   ]
  },
  {
   "cell_type": "code",
   "execution_count": 5,
   "id": "f75f183b",
   "metadata": {},
   "outputs": [
    {
     "data": {
      "text/plain": [
       "array(['alcohol', 'alcohol', 'alcohol', 'alcohol', 'alkene',\n",
       "       'carboxylic_acid', 'carboxylic_acid', 'ester', 'ester', 'ether',\n",
       "       'ether', 'ketone', 'sulfide', 'primary_amine', 'phenol', 'polyol',\n",
       "       'polyol', 'pyridyl', 'haloalkane', 'amine', 'amine', 'alcohol',\n",
       "       'alcohol', 'alcohol', 'carboxylic_acid', 'carboxylic_acid',\n",
       "       'ester', 'ether', 'ketone', 'ketone', 'primary_amine',\n",
       "       'primary_amine', 'haloalkane', 'haloalkane', 'amine', 'amine',\n",
       "       'amine', 'alcohol', 'ester', 'ether', 'ketone', 'phenol', 'polyol',\n",
       "       'alcohol', 'carboxylic_acid', 'ester', 'ether', 'ketone',\n",
       "       'primary_amine', 'sulfone', 'polyol', 'amine', 'alcohol',\n",
       "       'carboxylic_acid', 'nitro', 'polyol', 'haloalkane', 'alcohol',\n",
       "       'carboxylic_acid', 'ester', 'ether', 'haloalkane', 'amine',\n",
       "       'ester', 'ether'], dtype=object)"
      ]
     },
     "execution_count": 5,
     "metadata": {},
     "output_type": "execute_result"
    }
   ],
   "source": [
    "df['fg'].values"
   ]
  },
  {
   "cell_type": "code",
   "execution_count": 6,
   "id": "03dd522a",
   "metadata": {},
   "outputs": [],
   "source": [
    "import plotly.express as px"
   ]
  },
  {
   "cell_type": "code",
   "execution_count": 7,
   "id": "d044a0b4",
   "metadata": {},
   "outputs": [
    {
     "ename": "ValueError",
     "evalue": "Value of 'names' is not the name of a column in 'data_frame'. Expected one of ['functional_group', 'parent_group', 'compound_id'] but received: character",
     "output_type": "error",
     "traceback": [
      "\u001b[0;31m---------------------------------------------------------------------------\u001b[0m",
      "\u001b[0;31mValueError\u001b[0m                                Traceback (most recent call last)",
      "Cell \u001b[0;32mIn[7], line 32\u001b[0m\n\u001b[1;32m      3\u001b[0m \u001b[38;5;66;03m# Corrected data structure\u001b[39;00m\n\u001b[1;32m      4\u001b[0m data \u001b[38;5;241m=\u001b[39m \u001b[38;5;28mdict\u001b[39m(\n\u001b[1;32m      5\u001b[0m     functional_group \u001b[38;5;241m=\u001b[39m [\u001b[38;5;124m'\u001b[39m\u001b[38;5;124malcohol\u001b[39m\u001b[38;5;124m'\u001b[39m, \u001b[38;5;124m'\u001b[39m\u001b[38;5;124malcohol\u001b[39m\u001b[38;5;124m'\u001b[39m, \u001b[38;5;124m'\u001b[39m\u001b[38;5;124malcohol\u001b[39m\u001b[38;5;124m'\u001b[39m, \u001b[38;5;124m'\u001b[39m\u001b[38;5;124malcohol\u001b[39m\u001b[38;5;124m'\u001b[39m, \u001b[38;5;124m'\u001b[39m\u001b[38;5;124malkene\u001b[39m\u001b[38;5;124m'\u001b[39m,\n\u001b[1;32m      6\u001b[0m        \u001b[38;5;124m'\u001b[39m\u001b[38;5;124mcarboxylic_acid\u001b[39m\u001b[38;5;124m'\u001b[39m, \u001b[38;5;124m'\u001b[39m\u001b[38;5;124mcarboxylic_acid\u001b[39m\u001b[38;5;124m'\u001b[39m, \u001b[38;5;124m'\u001b[39m\u001b[38;5;124mester\u001b[39m\u001b[38;5;124m'\u001b[39m, \u001b[38;5;124m'\u001b[39m\u001b[38;5;124mester\u001b[39m\u001b[38;5;124m'\u001b[39m, \u001b[38;5;124m'\u001b[39m\u001b[38;5;124mether\u001b[39m\u001b[38;5;124m'\u001b[39m,\n\u001b[0;32m   (...)\u001b[0m\n\u001b[1;32m     29\u001b[0m        \u001b[38;5;241m26\u001b[39m,  \u001b[38;5;241m6\u001b[39m,  \u001b[38;5;241m6\u001b[39m,  \u001b[38;5;241m6\u001b[39m,  \u001b[38;5;241m6\u001b[39m, \u001b[38;5;241m20\u001b[39m, \u001b[38;5;241m28\u001b[39m, \u001b[38;5;241m28\u001b[39m,  \u001b[38;5;241m3\u001b[39m,  \u001b[38;5;241m3\u001b[39m, \u001b[38;5;241m28\u001b[39m, \u001b[38;5;241m28\u001b[39m, \u001b[38;5;241m15\u001b[39m, \u001b[38;5;241m15\u001b[39m]\n\u001b[1;32m     30\u001b[0m )\n\u001b[0;32m---> 32\u001b[0m fig \u001b[38;5;241m=\u001b[39m \u001b[43mpx\u001b[49m\u001b[38;5;241;43m.\u001b[39;49m\u001b[43msunburst\u001b[49m\u001b[43m(\u001b[49m\n\u001b[1;32m     33\u001b[0m \u001b[43m    \u001b[49m\u001b[43mdata\u001b[49m\u001b[43m,\u001b[49m\n\u001b[1;32m     34\u001b[0m \u001b[43m    \u001b[49m\u001b[43mnames\u001b[49m\u001b[38;5;241;43m=\u001b[39;49m\u001b[38;5;124;43m'\u001b[39;49m\u001b[38;5;124;43mcharacter\u001b[39;49m\u001b[38;5;124;43m'\u001b[39;49m\u001b[43m,\u001b[49m\n\u001b[1;32m     35\u001b[0m \u001b[43m    \u001b[49m\u001b[43mparents\u001b[49m\u001b[38;5;241;43m=\u001b[39;49m\u001b[38;5;124;43m'\u001b[39;49m\u001b[38;5;124;43mparent\u001b[39;49m\u001b[38;5;124;43m'\u001b[39;49m\u001b[43m,\u001b[49m\n\u001b[1;32m     36\u001b[0m \u001b[43m    \u001b[49m\u001b[43mvalues\u001b[49m\u001b[38;5;241;43m=\u001b[39;49m\u001b[38;5;124;43m'\u001b[39;49m\u001b[38;5;124;43mvalue\u001b[39;49m\u001b[38;5;124;43m'\u001b[39;49m\u001b[43m,\u001b[49m\n\u001b[1;32m     37\u001b[0m \u001b[43m    \u001b[49m\u001b[43mbranchvalues\u001b[49m\u001b[38;5;241;43m=\u001b[39;49m\u001b[38;5;124;43m'\u001b[39;49m\u001b[38;5;124;43mremainder\u001b[39;49m\u001b[38;5;124;43m'\u001b[39;49m\n\u001b[1;32m     38\u001b[0m \u001b[43m)\u001b[49m\n\u001b[1;32m     40\u001b[0m fig\u001b[38;5;241m.\u001b[39mupdate_layout(\n\u001b[1;32m     41\u001b[0m     margin\u001b[38;5;241m=\u001b[39m\u001b[38;5;28mdict\u001b[39m(t\u001b[38;5;241m=\u001b[39m\u001b[38;5;241m0\u001b[39m, l\u001b[38;5;241m=\u001b[39m\u001b[38;5;241m0\u001b[39m, r\u001b[38;5;241m=\u001b[39m\u001b[38;5;241m0\u001b[39m, b\u001b[38;5;241m=\u001b[39m\u001b[38;5;241m0\u001b[39m),\n\u001b[1;32m     42\u001b[0m     height\u001b[38;5;241m=\u001b[39m\u001b[38;5;241m700\u001b[39m\n\u001b[1;32m     43\u001b[0m )\n\u001b[1;32m     45\u001b[0m fig\u001b[38;5;241m.\u001b[39mshow()\n",
      "File \u001b[0;32m~/anaconda3/envs/serb/lib/python3.9/site-packages/plotly/express/_chart_types.py:1761\u001b[0m, in \u001b[0;36msunburst\u001b[0;34m(data_frame, names, values, parents, path, ids, color, color_continuous_scale, range_color, color_continuous_midpoint, color_discrete_sequence, color_discrete_map, hover_name, hover_data, custom_data, labels, title, subtitle, template, width, height, branchvalues, maxdepth)\u001b[0m\n\u001b[1;32m   1759\u001b[0m \u001b[38;5;28;01mif\u001b[39;00m path \u001b[38;5;129;01mis\u001b[39;00m \u001b[38;5;129;01mnot\u001b[39;00m \u001b[38;5;28;01mNone\u001b[39;00m \u001b[38;5;129;01mand\u001b[39;00m branchvalues \u001b[38;5;129;01mis\u001b[39;00m \u001b[38;5;28;01mNone\u001b[39;00m:\n\u001b[1;32m   1760\u001b[0m     branchvalues \u001b[38;5;241m=\u001b[39m \u001b[38;5;124m\"\u001b[39m\u001b[38;5;124mtotal\u001b[39m\u001b[38;5;124m\"\u001b[39m\n\u001b[0;32m-> 1761\u001b[0m \u001b[38;5;28;01mreturn\u001b[39;00m \u001b[43mmake_figure\u001b[49m\u001b[43m(\u001b[49m\n\u001b[1;32m   1762\u001b[0m \u001b[43m    \u001b[49m\u001b[43margs\u001b[49m\u001b[38;5;241;43m=\u001b[39;49m\u001b[38;5;28;43mlocals\u001b[39;49m\u001b[43m(\u001b[49m\u001b[43m)\u001b[49m\u001b[43m,\u001b[49m\n\u001b[1;32m   1763\u001b[0m \u001b[43m    \u001b[49m\u001b[43mconstructor\u001b[49m\u001b[38;5;241;43m=\u001b[39;49m\u001b[43mgo\u001b[49m\u001b[38;5;241;43m.\u001b[39;49m\u001b[43mSunburst\u001b[49m\u001b[43m,\u001b[49m\n\u001b[1;32m   1764\u001b[0m \u001b[43m    \u001b[49m\u001b[43mtrace_patch\u001b[49m\u001b[38;5;241;43m=\u001b[39;49m\u001b[38;5;28;43mdict\u001b[39;49m\u001b[43m(\u001b[49m\u001b[43mbranchvalues\u001b[49m\u001b[38;5;241;43m=\u001b[39;49m\u001b[43mbranchvalues\u001b[49m\u001b[43m,\u001b[49m\u001b[43m \u001b[49m\u001b[43mmaxdepth\u001b[49m\u001b[38;5;241;43m=\u001b[39;49m\u001b[43mmaxdepth\u001b[49m\u001b[43m)\u001b[49m\u001b[43m,\u001b[49m\n\u001b[1;32m   1765\u001b[0m \u001b[43m    \u001b[49m\u001b[43mlayout_patch\u001b[49m\u001b[38;5;241;43m=\u001b[39;49m\u001b[43mlayout_patch\u001b[49m\u001b[43m,\u001b[49m\n\u001b[1;32m   1766\u001b[0m \u001b[43m\u001b[49m\u001b[43m)\u001b[49m\n",
      "File \u001b[0;32m~/anaconda3/envs/serb/lib/python3.9/site-packages/plotly/express/_core.py:2479\u001b[0m, in \u001b[0;36mmake_figure\u001b[0;34m(args, constructor, trace_patch, layout_patch)\u001b[0m\n\u001b[1;32m   2476\u001b[0m layout_patch \u001b[38;5;241m=\u001b[39m layout_patch \u001b[38;5;129;01mor\u001b[39;00m {}\n\u001b[1;32m   2477\u001b[0m apply_default_cascade(args)\n\u001b[0;32m-> 2479\u001b[0m args \u001b[38;5;241m=\u001b[39m \u001b[43mbuild_dataframe\u001b[49m\u001b[43m(\u001b[49m\u001b[43margs\u001b[49m\u001b[43m,\u001b[49m\u001b[43m \u001b[49m\u001b[43mconstructor\u001b[49m\u001b[43m)\u001b[49m\n\u001b[1;32m   2480\u001b[0m \u001b[38;5;28;01mif\u001b[39;00m constructor \u001b[38;5;129;01min\u001b[39;00m [go\u001b[38;5;241m.\u001b[39mTreemap, go\u001b[38;5;241m.\u001b[39mSunburst, go\u001b[38;5;241m.\u001b[39mIcicle] \u001b[38;5;129;01mand\u001b[39;00m args[\u001b[38;5;124m\"\u001b[39m\u001b[38;5;124mpath\u001b[39m\u001b[38;5;124m\"\u001b[39m] \u001b[38;5;129;01mis\u001b[39;00m \u001b[38;5;129;01mnot\u001b[39;00m \u001b[38;5;28;01mNone\u001b[39;00m:\n\u001b[1;32m   2481\u001b[0m     args \u001b[38;5;241m=\u001b[39m process_dataframe_hierarchy(args)\n",
      "File \u001b[0;32m~/anaconda3/envs/serb/lib/python3.9/site-packages/plotly/express/_core.py:1727\u001b[0m, in \u001b[0;36mbuild_dataframe\u001b[0;34m(args, constructor)\u001b[0m\n\u001b[1;32m   1724\u001b[0m     args[\u001b[38;5;124m\"\u001b[39m\u001b[38;5;124mcolor\u001b[39m\u001b[38;5;124m\"\u001b[39m] \u001b[38;5;241m=\u001b[39m \u001b[38;5;28;01mNone\u001b[39;00m\n\u001b[1;32m   1725\u001b[0m \u001b[38;5;66;03m# now that things have been prepped, we do the systematic rewriting of `args`\u001b[39;00m\n\u001b[0;32m-> 1727\u001b[0m df_output, wide_id_vars \u001b[38;5;241m=\u001b[39m \u001b[43mprocess_args_into_dataframe\u001b[49m\u001b[43m(\u001b[49m\n\u001b[1;32m   1728\u001b[0m \u001b[43m    \u001b[49m\u001b[43margs\u001b[49m\u001b[43m,\u001b[49m\n\u001b[1;32m   1729\u001b[0m \u001b[43m    \u001b[49m\u001b[43mwide_mode\u001b[49m\u001b[43m,\u001b[49m\n\u001b[1;32m   1730\u001b[0m \u001b[43m    \u001b[49m\u001b[43mvar_name\u001b[49m\u001b[43m,\u001b[49m\n\u001b[1;32m   1731\u001b[0m \u001b[43m    \u001b[49m\u001b[43mvalue_name\u001b[49m\u001b[43m,\u001b[49m\n\u001b[1;32m   1732\u001b[0m \u001b[43m    \u001b[49m\u001b[43mis_pd_like\u001b[49m\u001b[43m,\u001b[49m\n\u001b[1;32m   1733\u001b[0m \u001b[43m    \u001b[49m\u001b[43mnative_namespace\u001b[49m\u001b[43m,\u001b[49m\n\u001b[1;32m   1734\u001b[0m \u001b[43m\u001b[49m\u001b[43m)\u001b[49m\n\u001b[1;32m   1735\u001b[0m df_output: nw\u001b[38;5;241m.\u001b[39mDataFrame\n\u001b[1;32m   1736\u001b[0m \u001b[38;5;66;03m# now that `df_output` exists and `args` contains only references, we complete\u001b[39;00m\n\u001b[1;32m   1737\u001b[0m \u001b[38;5;66;03m# the special-case and wide-mode handling by further rewriting args and/or mutating\u001b[39;00m\n\u001b[1;32m   1738\u001b[0m \u001b[38;5;66;03m# df_output\u001b[39;00m\n",
      "File \u001b[0;32m~/anaconda3/envs/serb/lib/python3.9/site-packages/plotly/express/_core.py:1328\u001b[0m, in \u001b[0;36mprocess_args_into_dataframe\u001b[0;34m(args, wide_mode, var_name, value_name, is_pd_like, native_namespace)\u001b[0m\n\u001b[1;32m   1326\u001b[0m         \u001b[38;5;28;01mif\u001b[39;00m argument \u001b[38;5;241m==\u001b[39m \u001b[38;5;124m\"\u001b[39m\u001b[38;5;124mindex\u001b[39m\u001b[38;5;124m\"\u001b[39m:\n\u001b[1;32m   1327\u001b[0m             err_msg \u001b[38;5;241m+\u001b[39m\u001b[38;5;241m=\u001b[39m \u001b[38;5;124m\"\u001b[39m\u001b[38;5;130;01m\\n\u001b[39;00m\u001b[38;5;124m To use the index, pass it in directly as `df.index`.\u001b[39m\u001b[38;5;124m\"\u001b[39m\n\u001b[0;32m-> 1328\u001b[0m         \u001b[38;5;28;01mraise\u001b[39;00m \u001b[38;5;167;01mValueError\u001b[39;00m(err_msg)\n\u001b[1;32m   1329\u001b[0m \u001b[38;5;28;01melif\u001b[39;00m length \u001b[38;5;129;01mand\u001b[39;00m (actual_len \u001b[38;5;241m:=\u001b[39m \u001b[38;5;28mlen\u001b[39m(df_input)) \u001b[38;5;241m!=\u001b[39m length:\n\u001b[1;32m   1330\u001b[0m     \u001b[38;5;28;01mraise\u001b[39;00m \u001b[38;5;167;01mValueError\u001b[39;00m(\n\u001b[1;32m   1331\u001b[0m         \u001b[38;5;124m\"\u001b[39m\u001b[38;5;124mAll arguments should have the same length. \u001b[39m\u001b[38;5;124m\"\u001b[39m\n\u001b[1;32m   1332\u001b[0m         \u001b[38;5;124m\"\u001b[39m\u001b[38;5;124mThe length of column argument `df[\u001b[39m\u001b[38;5;132;01m%s\u001b[39;00m\u001b[38;5;124m]` is \u001b[39m\u001b[38;5;132;01m%d\u001b[39;00m\u001b[38;5;124m, whereas the \u001b[39m\u001b[38;5;124m\"\u001b[39m\n\u001b[0;32m   (...)\u001b[0m\n\u001b[1;32m   1339\u001b[0m         )\n\u001b[1;32m   1340\u001b[0m     )\n",
      "\u001b[0;31mValueError\u001b[0m: Value of 'names' is not the name of a column in 'data_frame'. Expected one of ['functional_group', 'parent_group', 'compound_id'] but received: character"
     ]
    }
   ],
   "source": [
    "import plotly.express as px\n",
    "\n",
    "# Corrected data structure\n",
    "data = dict(\n",
    "    functional_group = ['alcohol', 'alcohol', 'alcohol', 'alcohol', 'alkene',\n",
    "       'carboxylic_acid', 'carboxylic_acid', 'ester', 'ester', 'ether',\n",
    "       'ether', 'ketone', 'sulfide', 'primary_amine', 'phenol', 'polyol',\n",
    "       'polyol', 'pyridyl', 'haloalkane', 'amine', 'amine', 'alcohol',\n",
    "       'alcohol', 'alcohol', 'carboxylic_acid', 'carboxylic_acid',\n",
    "       'ester', 'ether', 'ketone', 'ketone', 'primary_amine',\n",
    "       'primary_amine', 'haloalkane', 'haloalkane', 'amine', 'amine',\n",
    "       'amine', 'alcohol', 'ester', 'ether', 'ketone', 'phenol', 'polyol',\n",
    "       'alcohol', 'carboxylic_acid', 'ester', 'ether', 'ketone',\n",
    "       'primary_amine', 'sulfone', 'polyol', 'amine', 'alcohol',\n",
    "       'carboxylic_acid', 'nitro', 'polyol', 'haloalkane', 'alcohol',\n",
    "       'carboxylic_acid', 'ester', 'ether', 'haloalkane', 'amine',\n",
    "       'ester', 'ether'],\n",
    "\n",
    "    parent_group=['D1', 'D1', 'D1', 'D1', 'D1', 'D1', 'D1', 'D1', 'D1', 'D1', 'D1',\n",
    "       'D1', 'D1', 'D1', 'D1', 'D1', 'D1', 'D1', 'D1', 'D1', 'D1', 'D2',\n",
    "       'D2', 'D2', 'D2', 'D2', 'D2', 'D2', 'D2', 'D2', 'D2', 'D2', 'D2',\n",
    "       'D2', 'D2', 'D2', 'D2', 'D3', 'D3', 'D3', 'D3', 'D3', 'D3', 'D4',\n",
    "       'D4', 'D4', 'D4', 'D4', 'D4', 'D4', 'D4', 'D4', 'D5', 'D5', 'D5',\n",
    "       'D5', 'D5', 'D7', 'D7', 'D7', 'D7', 'D7', 'D7', 'D8', 'D8'],\n",
    "\n",
    "    compound_id = [16,  9,  2, 12, 10,  9,  2,  0, 10,  0, 10, 16, 25,  8,  9,  9, 12,\n",
    "        2,  2,  8, 16, 13, 27, 29, 27, 29, 27, 27, 17, 13, 17, 23, 29, 23,\n",
    "       17, 29, 23,  7,  7,  7,  7,  7,  7,  1,  1, 24, 24, 26, 26, 24,  1,\n",
    "       26,  6,  6,  6,  6, 20, 28, 28,  3,  3, 28, 28, 15, 15]\n",
    ")\n",
    "\n",
    "fig = px.sunburst(\n",
    "    data,\n",
    "    names='character',\n",
    "    parents='parent',\n",
    "    values='value',\n",
    "    branchvalues='remainder'\n",
    ")\n",
    "\n",
    "fig.update_layout(\n",
    "    margin=dict(t=0, l=0, r=0, b=0),\n",
    "    height=700\n",
    ")\n",
    "\n",
    "fig.show()"
   ]
  },
  {
   "cell_type": "code",
   "execution_count": null,
   "id": "659ab2c8",
   "metadata": {},
   "outputs": [
    {
     "data": {
      "application/vnd.plotly.v1+json": {
       "config": {
        "plotlyServerURL": "https://plot.ly"
       },
       "data": [
        {
         "branchvalues": "remainder",
         "domain": {
          "x": [
           0,
           1
          ],
          "y": [
           0,
           1
          ]
         },
         "hovertemplate": "label=%{label}<br>value=%{value}<br>parent=%{parent}<extra></extra>",
         "labels": [
          "All Compounds",
          "D1",
          "D2",
          "D3",
          "D4",
          "D5",
          "D7",
          "D8",
          "alcohol",
          "alcohol",
          "alcohol",
          "alcohol",
          "alkene",
          "carboxylic_acid",
          "carboxylic_acid",
          "ester",
          "ester",
          "ether",
          "ether",
          "ketone",
          "sulfide",
          "primary_amine",
          "phenol",
          "polyol",
          "polyol",
          "pyridyl",
          "haloalkane",
          "amine",
          "amine",
          "alcohol",
          "alcohol",
          "alcohol",
          "carboxylic_acid",
          "carboxylic_acid",
          "ester",
          "ether",
          "ketone",
          "ketone",
          "primary_amine",
          "primary_amine",
          "haloalkane",
          "haloalkane",
          "amine",
          "amine",
          "amine",
          "alcohol",
          "ester",
          "ether",
          "ketone",
          "phenol",
          "polyol",
          "alcohol",
          "carboxylic_acid",
          "ester",
          "ether",
          "ketone",
          "primary_amine",
          "sulfone",
          "polyol",
          "amine",
          "alcohol",
          "carboxylic_acid",
          "nitro",
          "polyol",
          "haloalkane",
          "alcohol",
          "carboxylic_acid",
          "ester",
          "ether",
          "haloalkane",
          "amine",
          "ester",
          "ether",
          "16",
          "9",
          "2",
          "12",
          "10",
          "9",
          "2",
          "0",
          "10",
          "0",
          "10",
          "16",
          "25",
          "8",
          "9",
          "9",
          "12",
          "2",
          "2",
          "8",
          "16",
          "13",
          "27",
          "29",
          "27",
          "29",
          "27",
          "27",
          "17",
          "13",
          "17",
          "23",
          "29",
          "23",
          "17",
          "29",
          "23",
          "7",
          "7",
          "7",
          "7",
          "7",
          "7",
          "1",
          "1",
          "24",
          "24",
          "26",
          "26",
          "24",
          "1",
          "26",
          "6",
          "6",
          "6",
          "6",
          "20",
          "28",
          "28",
          "3",
          "3",
          "28",
          "28",
          "15",
          "15"
         ],
         "marker": {
          "colors": [
           "rgb(95, 70, 144)",
           "rgb(29, 105, 150)",
           "rgb(56, 166, 165)",
           "rgb(15, 133, 84)",
           "rgb(115, 175, 72)",
           "rgb(237, 173, 8)",
           "rgb(225, 124, 5)",
           "rgb(204, 80, 62)",
           "rgb(148, 52, 110)",
           "rgb(148, 52, 110)",
           "rgb(148, 52, 110)",
           "rgb(148, 52, 110)",
           "rgb(111, 64, 112)",
           "rgb(102, 102, 102)",
           "rgb(102, 102, 102)",
           "rgb(95, 70, 144)",
           "rgb(95, 70, 144)",
           "rgb(29, 105, 150)",
           "rgb(29, 105, 150)",
           "rgb(56, 166, 165)",
           "rgb(15, 133, 84)",
           "rgb(115, 175, 72)",
           "rgb(237, 173, 8)",
           "rgb(225, 124, 5)",
           "rgb(225, 124, 5)",
           "rgb(204, 80, 62)",
           "rgb(148, 52, 110)",
           "rgb(111, 64, 112)",
           "rgb(111, 64, 112)",
           "rgb(148, 52, 110)",
           "rgb(148, 52, 110)",
           "rgb(148, 52, 110)",
           "rgb(102, 102, 102)",
           "rgb(102, 102, 102)",
           "rgb(95, 70, 144)",
           "rgb(29, 105, 150)",
           "rgb(56, 166, 165)",
           "rgb(56, 166, 165)",
           "rgb(115, 175, 72)",
           "rgb(115, 175, 72)",
           "rgb(148, 52, 110)",
           "rgb(148, 52, 110)",
           "rgb(111, 64, 112)",
           "rgb(111, 64, 112)",
           "rgb(111, 64, 112)",
           "rgb(148, 52, 110)",
           "rgb(95, 70, 144)",
           "rgb(29, 105, 150)",
           "rgb(56, 166, 165)",
           "rgb(237, 173, 8)",
           "rgb(225, 124, 5)",
           "rgb(148, 52, 110)",
           "rgb(102, 102, 102)",
           "rgb(95, 70, 144)",
           "rgb(29, 105, 150)",
           "rgb(56, 166, 165)",
           "rgb(115, 175, 72)",
           "rgb(102, 102, 102)",
           "rgb(225, 124, 5)",
           "rgb(111, 64, 112)",
           "rgb(148, 52, 110)",
           "rgb(102, 102, 102)",
           "rgb(95, 70, 144)",
           "rgb(225, 124, 5)",
           "rgb(148, 52, 110)",
           "rgb(148, 52, 110)",
           "rgb(102, 102, 102)",
           "rgb(95, 70, 144)",
           "rgb(29, 105, 150)",
           "rgb(148, 52, 110)",
           "rgb(111, 64, 112)",
           "rgb(95, 70, 144)",
           "rgb(29, 105, 150)",
           "rgb(29, 105, 150)",
           "rgb(56, 166, 165)",
           "rgb(15, 133, 84)",
           "rgb(115, 175, 72)",
           "rgb(237, 173, 8)",
           "rgb(56, 166, 165)",
           "rgb(15, 133, 84)",
           "rgb(225, 124, 5)",
           "rgb(237, 173, 8)",
           "rgb(225, 124, 5)",
           "rgb(237, 173, 8)",
           "rgb(29, 105, 150)",
           "rgb(204, 80, 62)",
           "rgb(148, 52, 110)",
           "rgb(56, 166, 165)",
           "rgb(56, 166, 165)",
           "rgb(115, 175, 72)",
           "rgb(15, 133, 84)",
           "rgb(15, 133, 84)",
           "rgb(148, 52, 110)",
           "rgb(29, 105, 150)",
           "rgb(111, 64, 112)",
           "rgb(102, 102, 102)",
           "rgb(95, 70, 144)",
           "rgb(102, 102, 102)",
           "rgb(95, 70, 144)",
           "rgb(102, 102, 102)",
           "rgb(102, 102, 102)",
           "rgb(29, 105, 150)",
           "rgb(111, 64, 112)",
           "rgb(29, 105, 150)",
           "rgb(56, 166, 165)",
           "rgb(95, 70, 144)",
           "rgb(56, 166, 165)",
           "rgb(29, 105, 150)",
           "rgb(95, 70, 144)",
           "rgb(56, 166, 165)",
           "rgb(15, 133, 84)",
           "rgb(15, 133, 84)",
           "rgb(15, 133, 84)",
           "rgb(15, 133, 84)",
           "rgb(15, 133, 84)",
           "rgb(15, 133, 84)",
           "rgb(115, 175, 72)",
           "rgb(115, 175, 72)",
           "rgb(237, 173, 8)",
           "rgb(237, 173, 8)",
           "rgb(225, 124, 5)",
           "rgb(225, 124, 5)",
           "rgb(237, 173, 8)",
           "rgb(115, 175, 72)",
           "rgb(225, 124, 5)",
           "rgb(204, 80, 62)",
           "rgb(204, 80, 62)",
           "rgb(204, 80, 62)",
           "rgb(204, 80, 62)",
           "rgb(148, 52, 110)",
           "rgb(111, 64, 112)",
           "rgb(111, 64, 112)",
           "rgb(102, 102, 102)",
           "rgb(102, 102, 102)",
           "rgb(111, 64, 112)",
           "rgb(111, 64, 112)",
           "rgb(95, 70, 144)",
           "rgb(95, 70, 144)"
          ]
         },
         "name": "",
         "parents": [
          "",
          "all_compounds",
          "all_compounds",
          "all_compounds",
          "all_compounds",
          "all_compounds",
          "all_compounds",
          "all_compounds",
          "D1",
          "D1",
          "D1",
          "D1",
          "D1",
          "D1",
          "D1",
          "D1",
          "D1",
          "D1",
          "D1",
          "D1",
          "D1",
          "D1",
          "D1",
          "D1",
          "D1",
          "D1",
          "D1",
          "D1",
          "D1",
          "D2",
          "D2",
          "D2",
          "D2",
          "D2",
          "D2",
          "D2",
          "D2",
          "D2",
          "D2",
          "D2",
          "D2",
          "D2",
          "D2",
          "D2",
          "D2",
          "D3",
          "D3",
          "D3",
          "D3",
          "D3",
          "D3",
          "D4",
          "D4",
          "D4",
          "D4",
          "D4",
          "D4",
          "D4",
          "D4",
          "D4",
          "D5",
          "D5",
          "D5",
          "D5",
          "D5",
          "D7",
          "D7",
          "D7",
          "D7",
          "D7",
          "D7",
          "D8",
          "D8",
          "D1_alcohol",
          "D1_alcohol",
          "D1_alcohol",
          "D1_alcohol",
          "D1_alkene",
          "D1_carboxylic_acid",
          "D1_carboxylic_acid",
          "D1_ester",
          "D1_ester",
          "D1_ether",
          "D1_ether",
          "D1_ketone",
          "D1_sulfide",
          "D1_primary_amine",
          "D1_phenol",
          "D1_polyol",
          "D1_polyol",
          "D1_pyridyl",
          "D1_haloalkane",
          "D1_amine",
          "D1_amine",
          "D2_alcohol",
          "D2_alcohol",
          "D2_alcohol",
          "D2_carboxylic_acid",
          "D2_carboxylic_acid",
          "D2_ester",
          "D2_ether",
          "D2_ketone",
          "D2_ketone",
          "D2_primary_amine",
          "D2_primary_amine",
          "D2_haloalkane",
          "D2_haloalkane",
          "D2_amine",
          "D2_amine",
          "D2_amine",
          "D3_alcohol",
          "D3_ester",
          "D3_ether",
          "D3_ketone",
          "D3_phenol",
          "D3_polyol",
          "D4_alcohol",
          "D4_carboxylic_acid",
          "D4_ester",
          "D4_ether",
          "D4_ketone",
          "D4_primary_amine",
          "D4_sulfone",
          "D4_polyol",
          "D4_amine",
          "D5_alcohol",
          "D5_carboxylic_acid",
          "D5_nitro",
          "D5_polyol",
          "D5_haloalkane",
          "D7_alcohol",
          "D7_carboxylic_acid",
          "D7_ester",
          "D7_ether",
          "D7_haloalkane",
          "D7_amine",
          "D8_ester",
          "D8_ether"
         ],
         "type": "sunburst",
         "values": {
          "bdata": "ARUQBgkFBgIEBAQEAQICAgICAgEBAQECAgEBAgIDAwMCAgEBAgICAgICAwMDAQEBAQEBAQEBAQEBAQEBAQEBAQEBAQEBAQEBAQEBAQEBAQEBAQEBAQEBAQEBAQEBAQEBAQEBAQEBAQEBAQEBAQEBAQEBAQEBAQEBAQEBAQEBAQEBAQEBAQEBAQEB",
          "dtype": "i1"
         }
        }
       ],
       "layout": {
        "height": 700,
        "legend": {
         "tracegroupgap": 0
        },
        "margin": {
         "b": 0,
         "l": 0,
         "r": 0,
         "t": 40
        },
        "sunburstcolorway": [
         "rgb(95, 70, 144)",
         "rgb(29, 105, 150)",
         "rgb(56, 166, 165)",
         "rgb(15, 133, 84)",
         "rgb(115, 175, 72)",
         "rgb(237, 173, 8)",
         "rgb(225, 124, 5)",
         "rgb(204, 80, 62)",
         "rgb(148, 52, 110)",
         "rgb(111, 64, 112)",
         "rgb(102, 102, 102)"
        ],
        "template": {
         "data": {
          "bar": [
           {
            "error_x": {
             "color": "#2a3f5f"
            },
            "error_y": {
             "color": "#2a3f5f"
            },
            "marker": {
             "line": {
              "color": "#E5ECF6",
              "width": 0.5
             },
             "pattern": {
              "fillmode": "overlay",
              "size": 10,
              "solidity": 0.2
             }
            },
            "type": "bar"
           }
          ],
          "barpolar": [
           {
            "marker": {
             "line": {
              "color": "#E5ECF6",
              "width": 0.5
             },
             "pattern": {
              "fillmode": "overlay",
              "size": 10,
              "solidity": 0.2
             }
            },
            "type": "barpolar"
           }
          ],
          "carpet": [
           {
            "aaxis": {
             "endlinecolor": "#2a3f5f",
             "gridcolor": "white",
             "linecolor": "white",
             "minorgridcolor": "white",
             "startlinecolor": "#2a3f5f"
            },
            "baxis": {
             "endlinecolor": "#2a3f5f",
             "gridcolor": "white",
             "linecolor": "white",
             "minorgridcolor": "white",
             "startlinecolor": "#2a3f5f"
            },
            "type": "carpet"
           }
          ],
          "choropleth": [
           {
            "colorbar": {
             "outlinewidth": 0,
             "ticks": ""
            },
            "type": "choropleth"
           }
          ],
          "contour": [
           {
            "colorbar": {
             "outlinewidth": 0,
             "ticks": ""
            },
            "colorscale": [
             [
              0,
              "#0d0887"
             ],
             [
              0.1111111111111111,
              "#46039f"
             ],
             [
              0.2222222222222222,
              "#7201a8"
             ],
             [
              0.3333333333333333,
              "#9c179e"
             ],
             [
              0.4444444444444444,
              "#bd3786"
             ],
             [
              0.5555555555555556,
              "#d8576b"
             ],
             [
              0.6666666666666666,
              "#ed7953"
             ],
             [
              0.7777777777777778,
              "#fb9f3a"
             ],
             [
              0.8888888888888888,
              "#fdca26"
             ],
             [
              1,
              "#f0f921"
             ]
            ],
            "type": "contour"
           }
          ],
          "contourcarpet": [
           {
            "colorbar": {
             "outlinewidth": 0,
             "ticks": ""
            },
            "type": "contourcarpet"
           }
          ],
          "heatmap": [
           {
            "colorbar": {
             "outlinewidth": 0,
             "ticks": ""
            },
            "colorscale": [
             [
              0,
              "#0d0887"
             ],
             [
              0.1111111111111111,
              "#46039f"
             ],
             [
              0.2222222222222222,
              "#7201a8"
             ],
             [
              0.3333333333333333,
              "#9c179e"
             ],
             [
              0.4444444444444444,
              "#bd3786"
             ],
             [
              0.5555555555555556,
              "#d8576b"
             ],
             [
              0.6666666666666666,
              "#ed7953"
             ],
             [
              0.7777777777777778,
              "#fb9f3a"
             ],
             [
              0.8888888888888888,
              "#fdca26"
             ],
             [
              1,
              "#f0f921"
             ]
            ],
            "type": "heatmap"
           }
          ],
          "histogram": [
           {
            "marker": {
             "pattern": {
              "fillmode": "overlay",
              "size": 10,
              "solidity": 0.2
             }
            },
            "type": "histogram"
           }
          ],
          "histogram2d": [
           {
            "colorbar": {
             "outlinewidth": 0,
             "ticks": ""
            },
            "colorscale": [
             [
              0,
              "#0d0887"
             ],
             [
              0.1111111111111111,
              "#46039f"
             ],
             [
              0.2222222222222222,
              "#7201a8"
             ],
             [
              0.3333333333333333,
              "#9c179e"
             ],
             [
              0.4444444444444444,
              "#bd3786"
             ],
             [
              0.5555555555555556,
              "#d8576b"
             ],
             [
              0.6666666666666666,
              "#ed7953"
             ],
             [
              0.7777777777777778,
              "#fb9f3a"
             ],
             [
              0.8888888888888888,
              "#fdca26"
             ],
             [
              1,
              "#f0f921"
             ]
            ],
            "type": "histogram2d"
           }
          ],
          "histogram2dcontour": [
           {
            "colorbar": {
             "outlinewidth": 0,
             "ticks": ""
            },
            "colorscale": [
             [
              0,
              "#0d0887"
             ],
             [
              0.1111111111111111,
              "#46039f"
             ],
             [
              0.2222222222222222,
              "#7201a8"
             ],
             [
              0.3333333333333333,
              "#9c179e"
             ],
             [
              0.4444444444444444,
              "#bd3786"
             ],
             [
              0.5555555555555556,
              "#d8576b"
             ],
             [
              0.6666666666666666,
              "#ed7953"
             ],
             [
              0.7777777777777778,
              "#fb9f3a"
             ],
             [
              0.8888888888888888,
              "#fdca26"
             ],
             [
              1,
              "#f0f921"
             ]
            ],
            "type": "histogram2dcontour"
           }
          ],
          "mesh3d": [
           {
            "colorbar": {
             "outlinewidth": 0,
             "ticks": ""
            },
            "type": "mesh3d"
           }
          ],
          "parcoords": [
           {
            "line": {
             "colorbar": {
              "outlinewidth": 0,
              "ticks": ""
             }
            },
            "type": "parcoords"
           }
          ],
          "pie": [
           {
            "automargin": true,
            "type": "pie"
           }
          ],
          "scatter": [
           {
            "fillpattern": {
             "fillmode": "overlay",
             "size": 10,
             "solidity": 0.2
            },
            "type": "scatter"
           }
          ],
          "scatter3d": [
           {
            "line": {
             "colorbar": {
              "outlinewidth": 0,
              "ticks": ""
             }
            },
            "marker": {
             "colorbar": {
              "outlinewidth": 0,
              "ticks": ""
             }
            },
            "type": "scatter3d"
           }
          ],
          "scattercarpet": [
           {
            "marker": {
             "colorbar": {
              "outlinewidth": 0,
              "ticks": ""
             }
            },
            "type": "scattercarpet"
           }
          ],
          "scattergeo": [
           {
            "marker": {
             "colorbar": {
              "outlinewidth": 0,
              "ticks": ""
             }
            },
            "type": "scattergeo"
           }
          ],
          "scattergl": [
           {
            "marker": {
             "colorbar": {
              "outlinewidth": 0,
              "ticks": ""
             }
            },
            "type": "scattergl"
           }
          ],
          "scattermap": [
           {
            "marker": {
             "colorbar": {
              "outlinewidth": 0,
              "ticks": ""
             }
            },
            "type": "scattermap"
           }
          ],
          "scattermapbox": [
           {
            "marker": {
             "colorbar": {
              "outlinewidth": 0,
              "ticks": ""
             }
            },
            "type": "scattermapbox"
           }
          ],
          "scatterpolar": [
           {
            "marker": {
             "colorbar": {
              "outlinewidth": 0,
              "ticks": ""
             }
            },
            "type": "scatterpolar"
           }
          ],
          "scatterpolargl": [
           {
            "marker": {
             "colorbar": {
              "outlinewidth": 0,
              "ticks": ""
             }
            },
            "type": "scatterpolargl"
           }
          ],
          "scatterternary": [
           {
            "marker": {
             "colorbar": {
              "outlinewidth": 0,
              "ticks": ""
             }
            },
            "type": "scatterternary"
           }
          ],
          "surface": [
           {
            "colorbar": {
             "outlinewidth": 0,
             "ticks": ""
            },
            "colorscale": [
             [
              0,
              "#0d0887"
             ],
             [
              0.1111111111111111,
              "#46039f"
             ],
             [
              0.2222222222222222,
              "#7201a8"
             ],
             [
              0.3333333333333333,
              "#9c179e"
             ],
             [
              0.4444444444444444,
              "#bd3786"
             ],
             [
              0.5555555555555556,
              "#d8576b"
             ],
             [
              0.6666666666666666,
              "#ed7953"
             ],
             [
              0.7777777777777778,
              "#fb9f3a"
             ],
             [
              0.8888888888888888,
              "#fdca26"
             ],
             [
              1,
              "#f0f921"
             ]
            ],
            "type": "surface"
           }
          ],
          "table": [
           {
            "cells": {
             "fill": {
              "color": "#EBF0F8"
             },
             "line": {
              "color": "white"
             }
            },
            "header": {
             "fill": {
              "color": "#C8D4E3"
             },
             "line": {
              "color": "white"
             }
            },
            "type": "table"
           }
          ]
         },
         "layout": {
          "annotationdefaults": {
           "arrowcolor": "#2a3f5f",
           "arrowhead": 0,
           "arrowwidth": 1
          },
          "autotypenumbers": "strict",
          "coloraxis": {
           "colorbar": {
            "outlinewidth": 0,
            "ticks": ""
           }
          },
          "colorscale": {
           "diverging": [
            [
             0,
             "#8e0152"
            ],
            [
             0.1,
             "#c51b7d"
            ],
            [
             0.2,
             "#de77ae"
            ],
            [
             0.3,
             "#f1b6da"
            ],
            [
             0.4,
             "#fde0ef"
            ],
            [
             0.5,
             "#f7f7f7"
            ],
            [
             0.6,
             "#e6f5d0"
            ],
            [
             0.7,
             "#b8e186"
            ],
            [
             0.8,
             "#7fbc41"
            ],
            [
             0.9,
             "#4d9221"
            ],
            [
             1,
             "#276419"
            ]
           ],
           "sequential": [
            [
             0,
             "#0d0887"
            ],
            [
             0.1111111111111111,
             "#46039f"
            ],
            [
             0.2222222222222222,
             "#7201a8"
            ],
            [
             0.3333333333333333,
             "#9c179e"
            ],
            [
             0.4444444444444444,
             "#bd3786"
            ],
            [
             0.5555555555555556,
             "#d8576b"
            ],
            [
             0.6666666666666666,
             "#ed7953"
            ],
            [
             0.7777777777777778,
             "#fb9f3a"
            ],
            [
             0.8888888888888888,
             "#fdca26"
            ],
            [
             1,
             "#f0f921"
            ]
           ],
           "sequentialminus": [
            [
             0,
             "#0d0887"
            ],
            [
             0.1111111111111111,
             "#46039f"
            ],
            [
             0.2222222222222222,
             "#7201a8"
            ],
            [
             0.3333333333333333,
             "#9c179e"
            ],
            [
             0.4444444444444444,
             "#bd3786"
            ],
            [
             0.5555555555555556,
             "#d8576b"
            ],
            [
             0.6666666666666666,
             "#ed7953"
            ],
            [
             0.7777777777777778,
             "#fb9f3a"
            ],
            [
             0.8888888888888888,
             "#fdca26"
            ],
            [
             1,
             "#f0f921"
            ]
           ]
          },
          "colorway": [
           "#636efa",
           "#EF553B",
           "#00cc96",
           "#ab63fa",
           "#FFA15A",
           "#19d3f3",
           "#FF6692",
           "#B6E880",
           "#FF97FF",
           "#FECB52"
          ],
          "font": {
           "color": "#2a3f5f"
          },
          "geo": {
           "bgcolor": "white",
           "lakecolor": "white",
           "landcolor": "#E5ECF6",
           "showlakes": true,
           "showland": true,
           "subunitcolor": "white"
          },
          "hoverlabel": {
           "align": "left"
          },
          "hovermode": "closest",
          "mapbox": {
           "style": "light"
          },
          "paper_bgcolor": "white",
          "plot_bgcolor": "#E5ECF6",
          "polar": {
           "angularaxis": {
            "gridcolor": "white",
            "linecolor": "white",
            "ticks": ""
           },
           "bgcolor": "#E5ECF6",
           "radialaxis": {
            "gridcolor": "white",
            "linecolor": "white",
            "ticks": ""
           }
          },
          "scene": {
           "xaxis": {
            "backgroundcolor": "#E5ECF6",
            "gridcolor": "white",
            "gridwidth": 2,
            "linecolor": "white",
            "showbackground": true,
            "ticks": "",
            "zerolinecolor": "white"
           },
           "yaxis": {
            "backgroundcolor": "#E5ECF6",
            "gridcolor": "white",
            "gridwidth": 2,
            "linecolor": "white",
            "showbackground": true,
            "ticks": "",
            "zerolinecolor": "white"
           },
           "zaxis": {
            "backgroundcolor": "#E5ECF6",
            "gridcolor": "white",
            "gridwidth": 2,
            "linecolor": "white",
            "showbackground": true,
            "ticks": "",
            "zerolinecolor": "white"
           }
          },
          "shapedefaults": {
           "line": {
            "color": "#2a3f5f"
           }
          },
          "ternary": {
           "aaxis": {
            "gridcolor": "white",
            "linecolor": "white",
            "ticks": ""
           },
           "baxis": {
            "gridcolor": "white",
            "linecolor": "white",
            "ticks": ""
           },
           "bgcolor": "#E5ECF6",
           "caxis": {
            "gridcolor": "white",
            "linecolor": "white",
            "ticks": ""
           }
          },
          "title": {
           "x": 0.05
          },
          "xaxis": {
           "automargin": true,
           "gridcolor": "white",
           "linecolor": "white",
           "ticks": "",
           "title": {
            "standoff": 15
           },
           "zerolinecolor": "white",
           "zerolinewidth": 2
          },
          "yaxis": {
           "automargin": true,
           "gridcolor": "white",
           "linecolor": "white",
           "ticks": "",
           "title": {
            "standoff": 15
           },
           "zerolinecolor": "white",
           "zerolinewidth": 2
          }
         }
        },
        "title": {
         "text": "Chemical Compounds Hierarchy: D-Group → Functional Group → Compound ID"
        }
       }
      }
     },
     "metadata": {},
     "output_type": "display_data"
    }
   ],
   "source": [
    "import plotly.express as px\n",
    "import pandas as pd\n",
    "\n",
    "# Prepare the data\n",
    "data = {\n",
    "    'functional_group': ['alcohol', 'alcohol', 'alcohol', 'alcohol', 'alkene',\n",
    "                       'carboxylic_acid', 'carboxylic_acid', 'ester', 'ester', 'ether',\n",
    "                       'ether', 'ketone', 'sulfide', 'primary_amine', 'phenol', 'polyol',\n",
    "                       'polyol', 'pyridyl', 'haloalkane', 'amine', 'amine', 'alcohol',\n",
    "                       'alcohol', 'alcohol', 'carboxylic_acid', 'carboxylic_acid',\n",
    "                       'ester', 'ether', 'ketone', 'ketone', 'primary_amine',\n",
    "                       'primary_amine', 'haloalkane', 'haloalkane', 'amine', 'amine',\n",
    "                       'amine', 'alcohol', 'ester', 'ether', 'ketone', 'phenol', 'polyol',\n",
    "                       'alcohol', 'carboxylic_acid', 'ester', 'ether', 'ketone',\n",
    "                       'primary_amine', 'sulfone', 'polyol', 'amine', 'alcohol',\n",
    "                       'carboxylic_acid', 'nitro', 'polyol', 'haloalkane', 'alcohol',\n",
    "                       'carboxylic_acid', 'ester', 'ether', 'haloalkane', 'amine',\n",
    "                       'ester', 'ether'],\n",
    "\n",
    "    'parent_group': ['D1', 'D1', 'D1', 'D1', 'D1', 'D1', 'D1', 'D1', 'D1', 'D1', 'D1',\n",
    "                   'D1', 'D1', 'D1', 'D1', 'D1', 'D1', 'D1', 'D1', 'D1', 'D1', 'D2',\n",
    "                   'D2', 'D2', 'D2', 'D2', 'D2', 'D2', 'D2', 'D2', 'D2', 'D2', 'D2',\n",
    "                   'D2', 'D2', 'D2', 'D2', 'D3', 'D3', 'D3', 'D3', 'D3', 'D3', 'D4',\n",
    "                   'D4', 'D4', 'D4', 'D4', 'D4', 'D4', 'D4', 'D4', 'D5', 'D5', 'D5',\n",
    "                   'D5', 'D5', 'D7', 'D7', 'D7', 'D7', 'D7', 'D7', 'D8', 'D8'],\n",
    "\n",
    "    'compound_id': [16, 9, 2, 12, 10, 9, 2, 0, 10, 0, 10, 16, 25, 8, 9, 9, 12,\n",
    "                   2, 2, 8, 16, 13, 27, 29, 27, 29, 27, 27, 17, 13, 17, 23, 29, 23,\n",
    "                   17, 29, 23, 7, 7, 7, 7, 7, 7, 1, 1, 24, 24, 26, 26, 24, 1,\n",
    "                   26, 6, 6, 6, 6, 20, 28, 28, 3, 3, 28, 28, 15, 15]\n",
    "}\n",
    "\n",
    "# Create DataFrame\n",
    "df = pd.DataFrame(data)\n",
    "\n",
    "# Build hierarchy: D-group → functional group → compound\n",
    "hierarchy = []\n",
    "\n",
    "# Add root\n",
    "hierarchy.append({\n",
    "    'id': 'all_compounds',\n",
    "    'parent': '',\n",
    "    'label': 'All Compounds',\n",
    "    'value': 1  # Will be updated\n",
    "})\n",
    "\n",
    "# Add D-groups\n",
    "for d in df['parent_group'].unique():\n",
    "    hierarchy.append({\n",
    "        'id': d,\n",
    "        'parent': 'all_compounds',\n",
    "        'label': d,\n",
    "        'value': len(df[df['parent_group'] == d])\n",
    "    })\n",
    "\n",
    "# Add functional groups\n",
    "for _, row in df.iterrows():\n",
    "    hierarchy.append({\n",
    "        'id': f\"{row['parent_group']}_{row['functional_group']}\",\n",
    "        'parent': row['parent_group'],\n",
    "        'label': row['functional_group'],\n",
    "        'value': len(df[(df['parent_group'] == row['parent_group']) &\n",
    "                       (df['functional_group'] == row['functional_group'])])\n",
    "    })\n",
    "\n",
    "# Add compounds\n",
    "for _, row in df.iterrows():\n",
    "    hierarchy.append({\n",
    "        'id': str(row['compound_id']),\n",
    "        'parent': f\"{row['parent_group']}_{row['functional_group']}\",\n",
    "        'label': str(row['compound_id']),\n",
    "        'value': 1\n",
    "    })\n",
    "\n",
    "# Convert to DataFrame\n",
    "hierarchy_df = pd.DataFrame(hierarchy)\n",
    "\n",
    "# Create sunburst plot\n",
    "fig = px.sunburst(\n",
    "    hierarchy_df,\n",
    "    names='label',\n",
    "    parents='parent',\n",
    "    values='value',\n",
    "    branchvalues='remainder',\n",
    "    color='label',  # Color by label for visual distinction\n",
    "    color_discrete_sequence=px.colors.qualitative.Prism,  # Color scheme\n",
    "    title='Chemical Compounds Hierarchy: D-Group → Functional Group → Compound ID'\n",
    ")\n",
    "\n",
    "fig.update_layout(\n",
    "    margin=dict(t=40, l=0, r=0, b=0),\n",
    "    height=700\n",
    ")\n",
    "\n",
    "fig.show()"
   ]
  },
  {
   "cell_type": "code",
   "execution_count": null,
   "id": "6582216a",
   "metadata": {},
   "outputs": [],
   "source": []
  },
  {
   "cell_type": "code",
   "execution_count": 8,
   "id": "c5fcec1c",
   "metadata": {},
   "outputs": [],
   "source": [
    "# Prepare the data\n",
    "data = {\n",
    "    'functional_group': ['alcohol', 'alcohol', 'alcohol', 'alcohol', 'alkene',\n",
    "                       'carboxylic_acid', 'carboxylic_acid', 'ester', 'ester', 'ether',\n",
    "                       'ether', 'ketone', 'sulfide', 'primary_amine', 'phenol', 'polyol',\n",
    "                       'polyol', 'pyridyl', 'haloalkane', 'amine', 'amine', 'alcohol',\n",
    "                       'alcohol', 'alcohol', 'carboxylic_acid', 'carboxylic_acid',\n",
    "                       'ester', 'ether', 'ketone', 'ketone', 'primary_amine',\n",
    "                       'primary_amine', 'haloalkane', 'haloalkane', 'amine', 'amine',\n",
    "                       'amine', 'alcohol', 'ester', 'ether', 'ketone', 'phenol', 'polyol',\n",
    "                       'alcohol', 'carboxylic_acid', 'ester', 'ether', 'ketone',\n",
    "                       'primary_amine', 'sulfone', 'polyol', 'amine', 'alcohol',\n",
    "                       'carboxylic_acid', 'nitro', 'polyol', 'haloalkane', 'alcohol',\n",
    "                       'carboxylic_acid', 'ester', 'ether', 'haloalkane', 'amine',\n",
    "                       'ester', 'ether'],\n",
    "\n",
    "    'parent_group': ['D1', 'D1', 'D1', 'D1', 'D1', 'D1', 'D1', 'D1', 'D1', 'D1', 'D1',\n",
    "                   'D1', 'D1', 'D1', 'D1', 'D1', 'D1', 'D1', 'D1', 'D1', 'D1', 'D2',\n",
    "                   'D2', 'D2', 'D2', 'D2', 'D2', 'D2', 'D2', 'D2', 'D2', 'D2', 'D2',\n",
    "                   'D2', 'D2', 'D2', 'D2', 'D3', 'D3', 'D3', 'D3', 'D3', 'D3', 'D4',\n",
    "                   'D4', 'D4', 'D4', 'D4', 'D4', 'D4', 'D4', 'D4', 'D5', 'D5', 'D5',\n",
    "                   'D5', 'D5', 'D7', 'D7', 'D7', 'D7', 'D7', 'D7', 'D8', 'D8'],\n",
    "\n",
    "    'compound_id': [16, 9, 2, 12, 10, 9, 2, 0, 10, 0, 10, 16, 25, 8, 9, 9, 12,\n",
    "                   2, 2, 8, 16, 13, 27, 29, 27, 29, 27, 27, 17, 13, 17, 23, 29, 23,\n",
    "                   17, 29, 23, 7, 7, 7, 7, 7, 7, 1, 1, 24, 24, 26, 26, 24, 1,\n",
    "                   26, 6, 6, 6, 6, 20, 28, 28, 3, 3, 28, 28, 15, 15],\n",
    "    'root': [\"Functional Groups\"]*65\n",
    "}\n",
    "df = pd.DataFrame(data)"
   ]
  },
  {
   "cell_type": "code",
   "execution_count": 20,
   "id": "ce3dae2f",
   "metadata": {},
   "outputs": [
    {
     "name": "stdout",
     "output_type": "stream",
     "text": [
      "\u001b[0;31mSignature:\u001b[0m\n",
      "\u001b[0mpx\u001b[0m\u001b[0;34m.\u001b[0m\u001b[0msunburst\u001b[0m\u001b[0;34m(\u001b[0m\u001b[0;34m\u001b[0m\n",
      "\u001b[0;34m\u001b[0m    \u001b[0mdata_frame\u001b[0m\u001b[0;34m=\u001b[0m\u001b[0;32mNone\u001b[0m\u001b[0;34m,\u001b[0m\u001b[0;34m\u001b[0m\n",
      "\u001b[0;34m\u001b[0m    \u001b[0mnames\u001b[0m\u001b[0;34m=\u001b[0m\u001b[0;32mNone\u001b[0m\u001b[0;34m,\u001b[0m\u001b[0;34m\u001b[0m\n",
      "\u001b[0;34m\u001b[0m    \u001b[0mvalues\u001b[0m\u001b[0;34m=\u001b[0m\u001b[0;32mNone\u001b[0m\u001b[0;34m,\u001b[0m\u001b[0;34m\u001b[0m\n",
      "\u001b[0;34m\u001b[0m    \u001b[0mparents\u001b[0m\u001b[0;34m=\u001b[0m\u001b[0;32mNone\u001b[0m\u001b[0;34m,\u001b[0m\u001b[0;34m\u001b[0m\n",
      "\u001b[0;34m\u001b[0m    \u001b[0mpath\u001b[0m\u001b[0;34m=\u001b[0m\u001b[0;32mNone\u001b[0m\u001b[0;34m,\u001b[0m\u001b[0;34m\u001b[0m\n",
      "\u001b[0;34m\u001b[0m    \u001b[0mids\u001b[0m\u001b[0;34m=\u001b[0m\u001b[0;32mNone\u001b[0m\u001b[0;34m,\u001b[0m\u001b[0;34m\u001b[0m\n",
      "\u001b[0;34m\u001b[0m    \u001b[0mcolor\u001b[0m\u001b[0;34m=\u001b[0m\u001b[0;32mNone\u001b[0m\u001b[0;34m,\u001b[0m\u001b[0;34m\u001b[0m\n",
      "\u001b[0;34m\u001b[0m    \u001b[0mcolor_continuous_scale\u001b[0m\u001b[0;34m=\u001b[0m\u001b[0;32mNone\u001b[0m\u001b[0;34m,\u001b[0m\u001b[0;34m\u001b[0m\n",
      "\u001b[0;34m\u001b[0m    \u001b[0mrange_color\u001b[0m\u001b[0;34m=\u001b[0m\u001b[0;32mNone\u001b[0m\u001b[0;34m,\u001b[0m\u001b[0;34m\u001b[0m\n",
      "\u001b[0;34m\u001b[0m    \u001b[0mcolor_continuous_midpoint\u001b[0m\u001b[0;34m=\u001b[0m\u001b[0;32mNone\u001b[0m\u001b[0;34m,\u001b[0m\u001b[0;34m\u001b[0m\n",
      "\u001b[0;34m\u001b[0m    \u001b[0mcolor_discrete_sequence\u001b[0m\u001b[0;34m=\u001b[0m\u001b[0;32mNone\u001b[0m\u001b[0;34m,\u001b[0m\u001b[0;34m\u001b[0m\n",
      "\u001b[0;34m\u001b[0m    \u001b[0mcolor_discrete_map\u001b[0m\u001b[0;34m=\u001b[0m\u001b[0;32mNone\u001b[0m\u001b[0;34m,\u001b[0m\u001b[0;34m\u001b[0m\n",
      "\u001b[0;34m\u001b[0m    \u001b[0mhover_name\u001b[0m\u001b[0;34m=\u001b[0m\u001b[0;32mNone\u001b[0m\u001b[0;34m,\u001b[0m\u001b[0;34m\u001b[0m\n",
      "\u001b[0;34m\u001b[0m    \u001b[0mhover_data\u001b[0m\u001b[0;34m=\u001b[0m\u001b[0;32mNone\u001b[0m\u001b[0;34m,\u001b[0m\u001b[0;34m\u001b[0m\n",
      "\u001b[0;34m\u001b[0m    \u001b[0mcustom_data\u001b[0m\u001b[0;34m=\u001b[0m\u001b[0;32mNone\u001b[0m\u001b[0;34m,\u001b[0m\u001b[0;34m\u001b[0m\n",
      "\u001b[0;34m\u001b[0m    \u001b[0mlabels\u001b[0m\u001b[0;34m=\u001b[0m\u001b[0;32mNone\u001b[0m\u001b[0;34m,\u001b[0m\u001b[0;34m\u001b[0m\n",
      "\u001b[0;34m\u001b[0m    \u001b[0mtitle\u001b[0m\u001b[0;34m=\u001b[0m\u001b[0;32mNone\u001b[0m\u001b[0;34m,\u001b[0m\u001b[0;34m\u001b[0m\n",
      "\u001b[0;34m\u001b[0m    \u001b[0msubtitle\u001b[0m\u001b[0;34m=\u001b[0m\u001b[0;32mNone\u001b[0m\u001b[0;34m,\u001b[0m\u001b[0;34m\u001b[0m\n",
      "\u001b[0;34m\u001b[0m    \u001b[0mtemplate\u001b[0m\u001b[0;34m=\u001b[0m\u001b[0;32mNone\u001b[0m\u001b[0;34m,\u001b[0m\u001b[0;34m\u001b[0m\n",
      "\u001b[0;34m\u001b[0m    \u001b[0mwidth\u001b[0m\u001b[0;34m=\u001b[0m\u001b[0;32mNone\u001b[0m\u001b[0;34m,\u001b[0m\u001b[0;34m\u001b[0m\n",
      "\u001b[0;34m\u001b[0m    \u001b[0mheight\u001b[0m\u001b[0;34m=\u001b[0m\u001b[0;32mNone\u001b[0m\u001b[0;34m,\u001b[0m\u001b[0;34m\u001b[0m\n",
      "\u001b[0;34m\u001b[0m    \u001b[0mbranchvalues\u001b[0m\u001b[0;34m=\u001b[0m\u001b[0;32mNone\u001b[0m\u001b[0;34m,\u001b[0m\u001b[0;34m\u001b[0m\n",
      "\u001b[0;34m\u001b[0m    \u001b[0mmaxdepth\u001b[0m\u001b[0;34m=\u001b[0m\u001b[0;32mNone\u001b[0m\u001b[0;34m,\u001b[0m\u001b[0;34m\u001b[0m\n",
      "\u001b[0;34m\u001b[0m\u001b[0;34m)\u001b[0m \u001b[0;34m->\u001b[0m \u001b[0mplotly\u001b[0m\u001b[0;34m.\u001b[0m\u001b[0mgraph_objs\u001b[0m\u001b[0;34m.\u001b[0m\u001b[0m_figure\u001b[0m\u001b[0;34m.\u001b[0m\u001b[0mFigure\u001b[0m\u001b[0;34m\u001b[0m\u001b[0;34m\u001b[0m\u001b[0m\n",
      "\u001b[0;31mDocstring:\u001b[0m\n",
      "    A sunburst plot represents hierarchial data as sectors laid out over\n",
      "    several levels of concentric rings.\n",
      "    \n",
      "Parameters\n",
      "----------\n",
      "data_frame: DataFrame or array-like or dict\n",
      "    This argument needs to be passed for column names (and not keyword\n",
      "    names) to be used. Array-like and dict are transformed internally to a\n",
      "    pandas DataFrame. Optional: if missing, a DataFrame gets constructed\n",
      "    under the hood using the other arguments.\n",
      "names: str or int or Series or array-like\n",
      "    Either a name of a column in `data_frame`, or a pandas Series or\n",
      "    array_like object. Values from this column or array_like are used as\n",
      "    labels for sectors.\n",
      "values: str or int or Series or array-like\n",
      "    Either a name of a column in `data_frame`, or a pandas Series or\n",
      "    array_like object. Values from this column or array_like are used to\n",
      "    set values associated to sectors.\n",
      "parents: str or int or Series or array-like\n",
      "    Either a name of a column in `data_frame`, or a pandas Series or\n",
      "    array_like object. Values from this column or array_like are used as\n",
      "    parents in sunburst and treemap charts.\n",
      "path: list of str or int, or Series or array-like\n",
      "    Either names of columns in `data_frame`, or pandas Series, or\n",
      "    array_like objects List of columns names or columns of a rectangular\n",
      "    dataframe defining the hierarchy of sectors, from root to leaves. An\n",
      "    error is raised if path AND ids or parents is passed\n",
      "ids: str or int or Series or array-like\n",
      "    Either a name of a column in `data_frame`, or a pandas Series or\n",
      "    array_like object. Values from this column or array_like are used to\n",
      "    set ids of sectors\n",
      "color: str or int or Series or array-like\n",
      "    Either a name of a column in `data_frame`, or a pandas Series or\n",
      "    array_like object. Values from this column or array_like are used to\n",
      "    assign color to marks.\n",
      "color_continuous_scale: list of str\n",
      "    Strings should define valid CSS-colors This list is used to build a\n",
      "    continuous color scale when the column denoted by `color` contains\n",
      "    numeric data. Various useful color scales are available in the\n",
      "    `plotly.express.colors` submodules, specifically\n",
      "    `plotly.express.colors.sequential`, `plotly.express.colors.diverging`\n",
      "    and `plotly.express.colors.cyclical`.\n",
      "range_color: list of two numbers\n",
      "    If provided, overrides auto-scaling on the continuous color scale.\n",
      "color_continuous_midpoint: number (default `None`)\n",
      "    If set, computes the bounds of the continuous color scale to have the\n",
      "    desired midpoint. Setting this value is recommended when using\n",
      "    `plotly.express.colors.diverging` color scales as the inputs to\n",
      "    `color_continuous_scale`.\n",
      "color_discrete_sequence: list of str\n",
      "    Strings should define valid CSS-colors. When `color` is set and the\n",
      "    values in the corresponding column are not numeric, values in that\n",
      "    column are assigned colors by cycling through `color_discrete_sequence`\n",
      "    in the order described in `category_orders`, unless the value of\n",
      "    `color` is a key in `color_discrete_map`. Various useful color\n",
      "    sequences are available in the `plotly.express.colors` submodules,\n",
      "    specifically `plotly.express.colors.qualitative`.\n",
      "color_discrete_map: dict with str keys and str values (default `{}`)\n",
      "    String values should define valid CSS-colors Used to override\n",
      "    `color_discrete_sequence` to assign a specific colors to marks\n",
      "    corresponding with specific values. Keys in `color_discrete_map` should\n",
      "    be values in the column denoted by `color`. Alternatively, if the\n",
      "    values of `color` are valid colors, the string `'identity'` may be\n",
      "    passed to cause them to be used directly.\n",
      "hover_name: str or int or Series or array-like\n",
      "    Either a name of a column in `data_frame`, or a pandas Series or\n",
      "    array_like object. Values from this column or array_like appear in bold\n",
      "    in the hover tooltip.\n",
      "hover_data: str, or list of str or int, or Series or array-like, or dict\n",
      "    Either a name or list of names of columns in `data_frame`, or pandas\n",
      "    Series, or array_like objects or a dict with column names as keys, with\n",
      "    values True (for default formatting) False (in order to remove this\n",
      "    column from hover information), or a formatting string, for example\n",
      "    ':.3f' or '|%a' or list-like data to appear in the hover tooltip or\n",
      "    tuples with a bool or formatting string as first element, and list-like\n",
      "    data to appear in hover as second element Values from these columns\n",
      "    appear as extra data in the hover tooltip.\n",
      "custom_data: str, or list of str or int, or Series or array-like\n",
      "    Either name or list of names of columns in `data_frame`, or pandas\n",
      "    Series, or array_like objects Values from these columns are extra data,\n",
      "    to be used in widgets or Dash callbacks for example. This data is not\n",
      "    user-visible but is included in events emitted by the figure (lasso\n",
      "    selection etc.)\n",
      "labels: dict with str keys and str values (default `{}`)\n",
      "    By default, column names are used in the figure for axis titles, legend\n",
      "    entries and hovers. This parameter allows this to be overridden. The\n",
      "    keys of this dict should correspond to column names, and the values\n",
      "    should correspond to the desired label to be displayed.\n",
      "title: str\n",
      "    The figure title.\n",
      "subtitle: str\n",
      "    The figure subtitle.\n",
      "template: str or dict or plotly.graph_objects.layout.Template instance\n",
      "    The figure template name (must be a key in plotly.io.templates) or\n",
      "    definition.\n",
      "width: int (default `None`)\n",
      "    The figure width in pixels.\n",
      "height: int (default `None`)\n",
      "    The figure height in pixels.\n",
      "branchvalues: str\n",
      "    'total' or 'remainder' Determines how the items in `values` are summed.\n",
      "    Whenset to 'total', items in `values` are taken to be valueof all its\n",
      "    descendants. When set to 'remainder', itemsin `values` corresponding to\n",
      "    the root and the branches:sectors are taken to be the extra part not\n",
      "    part of thesum of the values at their leaves.\n",
      "maxdepth: int\n",
      "    Positive integer Sets the number of rendered sectors from any given\n",
      "    `level`. Set `maxdepth` to -1 to render all thelevels in the hierarchy.\n",
      "\n",
      "Returns\n",
      "-------\n",
      "    plotly.graph_objects.Figure\n",
      "\u001b[0;31mFile:\u001b[0m      ~/anaconda3/envs/serb/lib/python3.9/site-packages/plotly/express/_chart_types.py\n",
      "\u001b[0;31mType:\u001b[0m      function"
     ]
    }
   ],
   "source": [
    "px.sunburst?"
   ]
  },
  {
   "cell_type": "code",
   "execution_count": null,
   "id": "3d2b3381",
   "metadata": {},
   "outputs": [
    {
     "data": {
      "application/vnd.plotly.v1+json": {
       "config": {
        "plotlyServerURL": "https://plot.ly"
       },
       "data": [
        {
         "branchvalues": "total",
         "customdata": [
          [
           "(?)"
          ],
          [
           "(?)"
          ],
          [
           "(?)"
          ],
          [
           "(?)"
          ],
          [
           "(?)"
          ],
          [
           "(?)"
          ],
          [
           "(?)"
          ],
          [
           "(?)"
          ],
          [
           "alcohol"
          ],
          [
           "alcohol"
          ],
          [
           "alcohol"
          ],
          [
           "alcohol"
          ],
          [
           "alcohol"
          ],
          [
           "alcohol"
          ],
          [
           "alcohol"
          ],
          [
           "alcohol"
          ],
          [
           "alcohol"
          ],
          [
           "alcohol"
          ],
          [
           "alcohol"
          ],
          [
           "alcohol"
          ],
          [
           "alcohol"
          ],
          [
           "alcohol"
          ],
          [
           "alcohol"
          ],
          [
           "alcohol"
          ],
          [
           "alcohol"
          ],
          [
           "alkene"
          ],
          [
           "alkene"
          ],
          [
           "amine"
          ],
          [
           "amine"
          ],
          [
           "amine"
          ],
          [
           "amine"
          ],
          [
           "amine"
          ],
          [
           "amine"
          ],
          [
           "amine"
          ],
          [
           "amine"
          ],
          [
           "amine"
          ],
          [
           "amine"
          ],
          [
           "amine"
          ],
          [
           "carboxylic_acid"
          ],
          [
           "carboxylic_acid"
          ],
          [
           "carboxylic_acid"
          ],
          [
           "carboxylic_acid"
          ],
          [
           "carboxylic_acid"
          ],
          [
           "carboxylic_acid"
          ],
          [
           "carboxylic_acid"
          ],
          [
           "carboxylic_acid"
          ],
          [
           "carboxylic_acid"
          ],
          [
           "carboxylic_acid"
          ],
          [
           "carboxylic_acid"
          ],
          [
           "carboxylic_acid"
          ],
          [
           "ester"
          ],
          [
           "ester"
          ],
          [
           "ester"
          ],
          [
           "ester"
          ],
          [
           "ester"
          ],
          [
           "ester"
          ],
          [
           "ester"
          ],
          [
           "ester"
          ],
          [
           "ester"
          ],
          [
           "ester"
          ],
          [
           "ester"
          ],
          [
           "ester"
          ],
          [
           "ester"
          ],
          [
           "ether"
          ],
          [
           "ether"
          ],
          [
           "ether"
          ],
          [
           "ether"
          ],
          [
           "ether"
          ],
          [
           "ether"
          ],
          [
           "ether"
          ],
          [
           "ether"
          ],
          [
           "ether"
          ],
          [
           "ether"
          ],
          [
           "ether"
          ],
          [
           "ether"
          ],
          [
           "ether"
          ],
          [
           "haloalkane"
          ],
          [
           "haloalkane"
          ],
          [
           "haloalkane"
          ],
          [
           "haloalkane"
          ],
          [
           "haloalkane"
          ],
          [
           "haloalkane"
          ],
          [
           "haloalkane"
          ],
          [
           "haloalkane"
          ],
          [
           "haloalkane"
          ],
          [
           "ketone"
          ],
          [
           "ketone"
          ],
          [
           "ketone"
          ],
          [
           "ketone"
          ],
          [
           "ketone"
          ],
          [
           "ketone"
          ],
          [
           "ketone"
          ],
          [
           "ketone"
          ],
          [
           "ketone"
          ],
          [
           "nitro"
          ],
          [
           "nitro"
          ],
          [
           "phenol"
          ],
          [
           "phenol"
          ],
          [
           "phenol"
          ],
          [
           "phenol"
          ],
          [
           "polyol"
          ],
          [
           "polyol"
          ],
          [
           "polyol"
          ],
          [
           "polyol"
          ],
          [
           "polyol"
          ],
          [
           "polyol"
          ],
          [
           "polyol"
          ],
          [
           "polyol"
          ],
          [
           "polyol"
          ],
          [
           "primary_amine"
          ],
          [
           "primary_amine"
          ],
          [
           "primary_amine"
          ],
          [
           "primary_amine"
          ],
          [
           "primary_amine"
          ],
          [
           "primary_amine"
          ],
          [
           "primary_amine"
          ],
          [
           "pyridyl"
          ],
          [
           "pyridyl"
          ],
          [
           "sulfide"
          ],
          [
           "sulfide"
          ],
          [
           "sulfone"
          ],
          [
           "sulfone"
          ]
         ],
         "domain": {
          "x": [
           0,
           1
          ],
          "y": [
           0,
           1
          ]
         },
         "hovertemplate": "%{label} <br>%{value:.1f} tCO₂e <extra></extra>",
         "ids": [
          "Functional Groups",
          "Functional Groups/D7",
          "Functional Groups/D5",
          "Functional Groups/D4",
          "Functional Groups/D3",
          "Functional Groups/D2",
          "Functional Groups/D1",
          "Functional Groups/D8",
          "Functional Groups/D2/alcohol/29",
          "Functional Groups/D3/alcohol/7",
          "Functional Groups/D4/alcohol/1",
          "Functional Groups/D5/alcohol/6",
          "Functional Groups/D7/alcohol/28",
          "Functional Groups/D3/alcohol",
          "Functional Groups/D2/alcohol",
          "Functional Groups/D2/alcohol/27",
          "Functional Groups/D4/alcohol",
          "Functional Groups/D5/alcohol",
          "Functional Groups/D7/alcohol",
          "Functional Groups/D1/alcohol",
          "Functional Groups/D2/alcohol/13",
          "Functional Groups/D1/alcohol/16",
          "Functional Groups/D1/alcohol/9",
          "Functional Groups/D1/alcohol/2",
          "Functional Groups/D1/alcohol/12",
          "Functional Groups/D1/alkene",
          "Functional Groups/D1/alkene/10",
          "Functional Groups/D1/amine/8",
          "Functional Groups/D1/amine",
          "Functional Groups/D7/amine/28",
          "Functional Groups/D2/amine",
          "Functional Groups/D4/amine/26",
          "Functional Groups/D4/amine",
          "Functional Groups/D7/amine",
          "Functional Groups/D2/amine/23",
          "Functional Groups/D1/amine/16",
          "Functional Groups/D2/amine/17",
          "Functional Groups/D2/amine/29",
          "Functional Groups/D1/carboxylic_acid",
          "Functional Groups/D2/carboxylic_acid/27",
          "Functional Groups/D2/carboxylic_acid/29",
          "Functional Groups/D2/carboxylic_acid",
          "Functional Groups/D7/carboxylic_acid",
          "Functional Groups/D5/carboxylic_acid",
          "Functional Groups/D4/carboxylic_acid/1",
          "Functional Groups/D5/carboxylic_acid/6",
          "Functional Groups/D1/carboxylic_acid/2",
          "Functional Groups/D4/carboxylic_acid",
          "Functional Groups/D7/carboxylic_acid/28",
          "Functional Groups/D1/carboxylic_acid/9",
          "Functional Groups/D2/ester/27",
          "Functional Groups/D2/ester",
          "Functional Groups/D8/ester/15",
          "Functional Groups/D7/ester/3",
          "Functional Groups/D3/ester",
          "Functional Groups/D4/ester/24",
          "Functional Groups/D4/ester",
          "Functional Groups/D1/ester/10",
          "Functional Groups/D1/ester",
          "Functional Groups/D1/ester/0",
          "Functional Groups/D7/ester",
          "Functional Groups/D3/ester/7",
          "Functional Groups/D8/ester",
          "Functional Groups/D1/ether/10",
          "Functional Groups/D4/ether",
          "Functional Groups/D8/ether",
          "Functional Groups/D2/ether",
          "Functional Groups/D7/ether",
          "Functional Groups/D3/ether",
          "Functional Groups/D1/ether/0",
          "Functional Groups/D7/ether/3",
          "Functional Groups/D1/ether",
          "Functional Groups/D4/ether/24",
          "Functional Groups/D2/ether/27",
          "Functional Groups/D3/ether/7",
          "Functional Groups/D8/ether/15",
          "Functional Groups/D5/haloalkane/20",
          "Functional Groups/D5/haloalkane",
          "Functional Groups/D2/haloalkane",
          "Functional Groups/D7/haloalkane",
          "Functional Groups/D7/haloalkane/28",
          "Functional Groups/D2/haloalkane/23",
          "Functional Groups/D2/haloalkane/29",
          "Functional Groups/D1/haloalkane",
          "Functional Groups/D1/haloalkane/2",
          "Functional Groups/D3/ketone/7",
          "Functional Groups/D2/ketone/13",
          "Functional Groups/D2/ketone/17",
          "Functional Groups/D4/ketone/26",
          "Functional Groups/D1/ketone",
          "Functional Groups/D4/ketone",
          "Functional Groups/D1/ketone/16",
          "Functional Groups/D2/ketone",
          "Functional Groups/D3/ketone",
          "Functional Groups/D5/nitro/6",
          "Functional Groups/D5/nitro",
          "Functional Groups/D1/phenol",
          "Functional Groups/D3/phenol/7",
          "Functional Groups/D3/phenol",
          "Functional Groups/D1/phenol/9",
          "Functional Groups/D3/polyol",
          "Functional Groups/D1/polyol",
          "Functional Groups/D5/polyol",
          "Functional Groups/D3/polyol/7",
          "Functional Groups/D5/polyol/6",
          "Functional Groups/D4/polyol",
          "Functional Groups/D1/polyol/12",
          "Functional Groups/D1/polyol/9",
          "Functional Groups/D4/polyol/1",
          "Functional Groups/D1/primary_amine",
          "Functional Groups/D4/primary_amine",
          "Functional Groups/D2/primary_amine",
          "Functional Groups/D4/primary_amine/26",
          "Functional Groups/D1/primary_amine/8",
          "Functional Groups/D2/primary_amine/23",
          "Functional Groups/D2/primary_amine/17",
          "Functional Groups/D1/pyridyl/2",
          "Functional Groups/D1/pyridyl",
          "Functional Groups/D1/sulfide",
          "Functional Groups/D1/sulfide/25",
          "Functional Groups/D4/sulfone",
          "Functional Groups/D4/sulfone/24"
         ],
         "insidetextorientation": "radial",
         "labels": [
          "Functional Groups",
          "D7",
          "D5",
          "D4",
          "D3",
          "D2",
          "D1",
          "D8",
          "29",
          "7",
          "1",
          "6",
          "28",
          "alcohol",
          "alcohol",
          "27",
          "alcohol",
          "alcohol",
          "alcohol",
          "alcohol",
          "13",
          "16",
          "9",
          "2",
          "12",
          "alkene",
          "10",
          "8",
          "amine",
          "28",
          "amine",
          "26",
          "amine",
          "amine",
          "23",
          "16",
          "17",
          "29",
          "carboxylic_acid",
          "27",
          "29",
          "carboxylic_acid",
          "carboxylic_acid",
          "carboxylic_acid",
          "1",
          "6",
          "2",
          "carboxylic_acid",
          "28",
          "9",
          "27",
          "ester",
          "15",
          "3",
          "ester",
          "24",
          "ester",
          "10",
          "ester",
          "0",
          "ester",
          "7",
          "ester",
          "10",
          "ether",
          "ether",
          "ether",
          "ether",
          "ether",
          "0",
          "3",
          "ether",
          "24",
          "27",
          "7",
          "15",
          "20",
          "haloalkane",
          "haloalkane",
          "haloalkane",
          "28",
          "23",
          "29",
          "haloalkane",
          "2",
          "7",
          "13",
          "17",
          "26",
          "ketone",
          "ketone",
          "16",
          "ketone",
          "ketone",
          "6",
          "nitro",
          "phenol",
          "7",
          "phenol",
          "9",
          "polyol",
          "polyol",
          "polyol",
          "7",
          "6",
          "polyol",
          "12",
          "9",
          "1",
          "primary_amine",
          "primary_amine",
          "primary_amine",
          "26",
          "8",
          "23",
          "17",
          "2",
          "pyridyl",
          "sulfide",
          "25",
          "sulfone",
          "24"
         ],
         "leaf": {
          "opacity": 1
         },
         "marker": {
          "colors": [
           "#FFFFFF",
           "#a50f15",
           "#cc191e",
           "#de2b25",
           "#f03d2d",
           "#f6563d",
           "#fcab8f",
           "#860811",
           "#440154",
           "#440154",
           "#440154",
           "#440154",
           "#440154",
           "#440154",
           "#48186a",
           "#472d7b",
           "#472d7b",
           "#472d7b",
           "#472d7b",
           "#424186",
           "#424186",
           "#424186",
           "#424186",
           "#424186",
           "#3a538b",
           "#3a538b",
           "#3a538b",
           "#3a538b",
           "#3a538b",
           "#3a538b",
           "#32658e",
           "#32658e",
           "#32658e",
           "#32658e",
           "#32658e",
           "#32658e",
           "#2b748e",
           "#2b748e",
           "#2b748e",
           "#2b748e",
           "#25848e",
           "#25848e",
           "#25848e",
           "#25848e",
           "#20938c",
           "#20a386",
           "#20a386",
           "#2db27d",
           "#2db27d",
           "#2db27d",
           "#2db27d",
           "#48c16e",
           "#48c16e",
           "#48c16e",
           "#69cd5b",
           "#90d743",
           "#bddf26"
          ]
         },
         "name": "",
         "parents": [
          "",
          "Functional Groups",
          "Functional Groups",
          "Functional Groups",
          "Functional Groups",
          "Functional Groups",
          "Functional Groups",
          "Functional Groups",
          "Functional Groups/D2/alcohol",
          "Functional Groups/D3/alcohol",
          "Functional Groups/D4/alcohol",
          "Functional Groups/D5/alcohol",
          "Functional Groups/D7/alcohol",
          "Functional Groups/D3",
          "Functional Groups/D2",
          "Functional Groups/D2/alcohol",
          "Functional Groups/D4",
          "Functional Groups/D5",
          "Functional Groups/D7",
          "Functional Groups/D1",
          "Functional Groups/D2/alcohol",
          "Functional Groups/D1/alcohol",
          "Functional Groups/D1/alcohol",
          "Functional Groups/D1/alcohol",
          "Functional Groups/D1/alcohol",
          "Functional Groups/D1",
          "Functional Groups/D1/alkene",
          "Functional Groups/D1/amine",
          "Functional Groups/D1",
          "Functional Groups/D7/amine",
          "Functional Groups/D2",
          "Functional Groups/D4/amine",
          "Functional Groups/D4",
          "Functional Groups/D7",
          "Functional Groups/D2/amine",
          "Functional Groups/D1/amine",
          "Functional Groups/D2/amine",
          "Functional Groups/D2/amine",
          "Functional Groups/D1",
          "Functional Groups/D2/carboxylic_acid",
          "Functional Groups/D2/carboxylic_acid",
          "Functional Groups/D2",
          "Functional Groups/D7",
          "Functional Groups/D5",
          "Functional Groups/D4/carboxylic_acid",
          "Functional Groups/D5/carboxylic_acid",
          "Functional Groups/D1/carboxylic_acid",
          "Functional Groups/D4",
          "Functional Groups/D7/carboxylic_acid",
          "Functional Groups/D1/carboxylic_acid",
          "Functional Groups/D2/ester",
          "Functional Groups/D2",
          "Functional Groups/D8/ester",
          "Functional Groups/D7/ester",
          "Functional Groups/D3",
          "Functional Groups/D4/ester",
          "Functional Groups/D4",
          "Functional Groups/D1/ester",
          "Functional Groups/D1",
          "Functional Groups/D1/ester",
          "Functional Groups/D7",
          "Functional Groups/D3/ester",
          "Functional Groups/D8",
          "Functional Groups/D1/ether",
          "Functional Groups/D4",
          "Functional Groups/D8",
          "Functional Groups/D2",
          "Functional Groups/D7",
          "Functional Groups/D3",
          "Functional Groups/D1/ether",
          "Functional Groups/D7/ether",
          "Functional Groups/D1",
          "Functional Groups/D4/ether",
          "Functional Groups/D2/ether",
          "Functional Groups/D3/ether",
          "Functional Groups/D8/ether",
          "Functional Groups/D5/haloalkane",
          "Functional Groups/D5",
          "Functional Groups/D2",
          "Functional Groups/D7",
          "Functional Groups/D7/haloalkane",
          "Functional Groups/D2/haloalkane",
          "Functional Groups/D2/haloalkane",
          "Functional Groups/D1",
          "Functional Groups/D1/haloalkane",
          "Functional Groups/D3/ketone",
          "Functional Groups/D2/ketone",
          "Functional Groups/D2/ketone",
          "Functional Groups/D4/ketone",
          "Functional Groups/D1",
          "Functional Groups/D4",
          "Functional Groups/D1/ketone",
          "Functional Groups/D2",
          "Functional Groups/D3",
          "Functional Groups/D5/nitro",
          "Functional Groups/D5",
          "Functional Groups/D1",
          "Functional Groups/D3/phenol",
          "Functional Groups/D3",
          "Functional Groups/D1/phenol",
          "Functional Groups/D3",
          "Functional Groups/D1",
          "Functional Groups/D5",
          "Functional Groups/D3/polyol",
          "Functional Groups/D5/polyol",
          "Functional Groups/D4",
          "Functional Groups/D1/polyol",
          "Functional Groups/D1/polyol",
          "Functional Groups/D4/polyol",
          "Functional Groups/D1",
          "Functional Groups/D4",
          "Functional Groups/D2",
          "Functional Groups/D4/primary_amine",
          "Functional Groups/D1/primary_amine",
          "Functional Groups/D2/primary_amine",
          "Functional Groups/D2/primary_amine",
          "Functional Groups/D1/pyridyl",
          "Functional Groups/D1",
          "Functional Groups/D1",
          "Functional Groups/D1/sulfide",
          "Functional Groups/D4",
          "Functional Groups/D4/sulfone"
         ],
         "sort": false,
         "type": "sunburst",
         "values": {
          "bdata": "QQYFCQYQFQIBAQEBAQEDAQEBAQQBAQEBAQEBAQIBAwEBAQEBAQECAQECAQEBAQEBAQEBAQEBAQEBAQIBAQEBAQEBAQEBAQECAQEBAQEBAgEBAQEBAQEBAQEBAQECAQEBAQEBAQECAQEBAQEBAQEBAgEBAQEBAQEBAQE=",
          "dtype": "i1"
         }
        }
       ],
       "layout": {
        "font": {
         "color": "black",
         "family": "C059",
         "size": 28
        },
        "height": 1000,
        "legend": {
         "tracegroupgap": 0
        },
        "margin": {
         "b": 10,
         "l": 10,
         "r": 10,
         "t": 10
        },
        "sunburstcolorway": [
         "rgb(95, 70, 144)",
         "rgb(29, 105, 150)",
         "rgb(56, 166, 165)",
         "rgb(15, 133, 84)",
         "rgb(115, 175, 72)",
         "rgb(237, 173, 8)",
         "rgb(225, 124, 5)",
         "rgb(204, 80, 62)",
         "rgb(148, 52, 110)",
         "rgb(111, 64, 112)",
         "rgb(102, 102, 102)"
        ],
        "template": {
         "data": {
          "bar": [
           {
            "error_x": {
             "color": "#2a3f5f"
            },
            "error_y": {
             "color": "#2a3f5f"
            },
            "marker": {
             "line": {
              "color": "#E5ECF6",
              "width": 0.5
             },
             "pattern": {
              "fillmode": "overlay",
              "size": 10,
              "solidity": 0.2
             }
            },
            "type": "bar"
           }
          ],
          "barpolar": [
           {
            "marker": {
             "line": {
              "color": "#E5ECF6",
              "width": 0.5
             },
             "pattern": {
              "fillmode": "overlay",
              "size": 10,
              "solidity": 0.2
             }
            },
            "type": "barpolar"
           }
          ],
          "carpet": [
           {
            "aaxis": {
             "endlinecolor": "#2a3f5f",
             "gridcolor": "white",
             "linecolor": "white",
             "minorgridcolor": "white",
             "startlinecolor": "#2a3f5f"
            },
            "baxis": {
             "endlinecolor": "#2a3f5f",
             "gridcolor": "white",
             "linecolor": "white",
             "minorgridcolor": "white",
             "startlinecolor": "#2a3f5f"
            },
            "type": "carpet"
           }
          ],
          "choropleth": [
           {
            "colorbar": {
             "outlinewidth": 0,
             "ticks": ""
            },
            "type": "choropleth"
           }
          ],
          "contour": [
           {
            "colorbar": {
             "outlinewidth": 0,
             "ticks": ""
            },
            "colorscale": [
             [
              0,
              "#0d0887"
             ],
             [
              0.1111111111111111,
              "#46039f"
             ],
             [
              0.2222222222222222,
              "#7201a8"
             ],
             [
              0.3333333333333333,
              "#9c179e"
             ],
             [
              0.4444444444444444,
              "#bd3786"
             ],
             [
              0.5555555555555556,
              "#d8576b"
             ],
             [
              0.6666666666666666,
              "#ed7953"
             ],
             [
              0.7777777777777778,
              "#fb9f3a"
             ],
             [
              0.8888888888888888,
              "#fdca26"
             ],
             [
              1,
              "#f0f921"
             ]
            ],
            "type": "contour"
           }
          ],
          "contourcarpet": [
           {
            "colorbar": {
             "outlinewidth": 0,
             "ticks": ""
            },
            "type": "contourcarpet"
           }
          ],
          "heatmap": [
           {
            "colorbar": {
             "outlinewidth": 0,
             "ticks": ""
            },
            "colorscale": [
             [
              0,
              "#0d0887"
             ],
             [
              0.1111111111111111,
              "#46039f"
             ],
             [
              0.2222222222222222,
              "#7201a8"
             ],
             [
              0.3333333333333333,
              "#9c179e"
             ],
             [
              0.4444444444444444,
              "#bd3786"
             ],
             [
              0.5555555555555556,
              "#d8576b"
             ],
             [
              0.6666666666666666,
              "#ed7953"
             ],
             [
              0.7777777777777778,
              "#fb9f3a"
             ],
             [
              0.8888888888888888,
              "#fdca26"
             ],
             [
              1,
              "#f0f921"
             ]
            ],
            "type": "heatmap"
           }
          ],
          "histogram": [
           {
            "marker": {
             "pattern": {
              "fillmode": "overlay",
              "size": 10,
              "solidity": 0.2
             }
            },
            "type": "histogram"
           }
          ],
          "histogram2d": [
           {
            "colorbar": {
             "outlinewidth": 0,
             "ticks": ""
            },
            "colorscale": [
             [
              0,
              "#0d0887"
             ],
             [
              0.1111111111111111,
              "#46039f"
             ],
             [
              0.2222222222222222,
              "#7201a8"
             ],
             [
              0.3333333333333333,
              "#9c179e"
             ],
             [
              0.4444444444444444,
              "#bd3786"
             ],
             [
              0.5555555555555556,
              "#d8576b"
             ],
             [
              0.6666666666666666,
              "#ed7953"
             ],
             [
              0.7777777777777778,
              "#fb9f3a"
             ],
             [
              0.8888888888888888,
              "#fdca26"
             ],
             [
              1,
              "#f0f921"
             ]
            ],
            "type": "histogram2d"
           }
          ],
          "histogram2dcontour": [
           {
            "colorbar": {
             "outlinewidth": 0,
             "ticks": ""
            },
            "colorscale": [
             [
              0,
              "#0d0887"
             ],
             [
              0.1111111111111111,
              "#46039f"
             ],
             [
              0.2222222222222222,
              "#7201a8"
             ],
             [
              0.3333333333333333,
              "#9c179e"
             ],
             [
              0.4444444444444444,
              "#bd3786"
             ],
             [
              0.5555555555555556,
              "#d8576b"
             ],
             [
              0.6666666666666666,
              "#ed7953"
             ],
             [
              0.7777777777777778,
              "#fb9f3a"
             ],
             [
              0.8888888888888888,
              "#fdca26"
             ],
             [
              1,
              "#f0f921"
             ]
            ],
            "type": "histogram2dcontour"
           }
          ],
          "mesh3d": [
           {
            "colorbar": {
             "outlinewidth": 0,
             "ticks": ""
            },
            "type": "mesh3d"
           }
          ],
          "parcoords": [
           {
            "line": {
             "colorbar": {
              "outlinewidth": 0,
              "ticks": ""
             }
            },
            "type": "parcoords"
           }
          ],
          "pie": [
           {
            "automargin": true,
            "type": "pie"
           }
          ],
          "scatter": [
           {
            "fillpattern": {
             "fillmode": "overlay",
             "size": 10,
             "solidity": 0.2
            },
            "type": "scatter"
           }
          ],
          "scatter3d": [
           {
            "line": {
             "colorbar": {
              "outlinewidth": 0,
              "ticks": ""
             }
            },
            "marker": {
             "colorbar": {
              "outlinewidth": 0,
              "ticks": ""
             }
            },
            "type": "scatter3d"
           }
          ],
          "scattercarpet": [
           {
            "marker": {
             "colorbar": {
              "outlinewidth": 0,
              "ticks": ""
             }
            },
            "type": "scattercarpet"
           }
          ],
          "scattergeo": [
           {
            "marker": {
             "colorbar": {
              "outlinewidth": 0,
              "ticks": ""
             }
            },
            "type": "scattergeo"
           }
          ],
          "scattergl": [
           {
            "marker": {
             "colorbar": {
              "outlinewidth": 0,
              "ticks": ""
             }
            },
            "type": "scattergl"
           }
          ],
          "scattermap": [
           {
            "marker": {
             "colorbar": {
              "outlinewidth": 0,
              "ticks": ""
             }
            },
            "type": "scattermap"
           }
          ],
          "scattermapbox": [
           {
            "marker": {
             "colorbar": {
              "outlinewidth": 0,
              "ticks": ""
             }
            },
            "type": "scattermapbox"
           }
          ],
          "scatterpolar": [
           {
            "marker": {
             "colorbar": {
              "outlinewidth": 0,
              "ticks": ""
             }
            },
            "type": "scatterpolar"
           }
          ],
          "scatterpolargl": [
           {
            "marker": {
             "colorbar": {
              "outlinewidth": 0,
              "ticks": ""
             }
            },
            "type": "scatterpolargl"
           }
          ],
          "scatterternary": [
           {
            "marker": {
             "colorbar": {
              "outlinewidth": 0,
              "ticks": ""
             }
            },
            "type": "scatterternary"
           }
          ],
          "surface": [
           {
            "colorbar": {
             "outlinewidth": 0,
             "ticks": ""
            },
            "colorscale": [
             [
              0,
              "#0d0887"
             ],
             [
              0.1111111111111111,
              "#46039f"
             ],
             [
              0.2222222222222222,
              "#7201a8"
             ],
             [
              0.3333333333333333,
              "#9c179e"
             ],
             [
              0.4444444444444444,
              "#bd3786"
             ],
             [
              0.5555555555555556,
              "#d8576b"
             ],
             [
              0.6666666666666666,
              "#ed7953"
             ],
             [
              0.7777777777777778,
              "#fb9f3a"
             ],
             [
              0.8888888888888888,
              "#fdca26"
             ],
             [
              1,
              "#f0f921"
             ]
            ],
            "type": "surface"
           }
          ],
          "table": [
           {
            "cells": {
             "fill": {
              "color": "#EBF0F8"
             },
             "line": {
              "color": "white"
             }
            },
            "header": {
             "fill": {
              "color": "#C8D4E3"
             },
             "line": {
              "color": "white"
             }
            },
            "type": "table"
           }
          ]
         },
         "layout": {
          "annotationdefaults": {
           "arrowcolor": "#2a3f5f",
           "arrowhead": 0,
           "arrowwidth": 1
          },
          "autotypenumbers": "strict",
          "coloraxis": {
           "colorbar": {
            "outlinewidth": 0,
            "ticks": ""
           }
          },
          "colorscale": {
           "diverging": [
            [
             0,
             "#8e0152"
            ],
            [
             0.1,
             "#c51b7d"
            ],
            [
             0.2,
             "#de77ae"
            ],
            [
             0.3,
             "#f1b6da"
            ],
            [
             0.4,
             "#fde0ef"
            ],
            [
             0.5,
             "#f7f7f7"
            ],
            [
             0.6,
             "#e6f5d0"
            ],
            [
             0.7,
             "#b8e186"
            ],
            [
             0.8,
             "#7fbc41"
            ],
            [
             0.9,
             "#4d9221"
            ],
            [
             1,
             "#276419"
            ]
           ],
           "sequential": [
            [
             0,
             "#0d0887"
            ],
            [
             0.1111111111111111,
             "#46039f"
            ],
            [
             0.2222222222222222,
             "#7201a8"
            ],
            [
             0.3333333333333333,
             "#9c179e"
            ],
            [
             0.4444444444444444,
             "#bd3786"
            ],
            [
             0.5555555555555556,
             "#d8576b"
            ],
            [
             0.6666666666666666,
             "#ed7953"
            ],
            [
             0.7777777777777778,
             "#fb9f3a"
            ],
            [
             0.8888888888888888,
             "#fdca26"
            ],
            [
             1,
             "#f0f921"
            ]
           ],
           "sequentialminus": [
            [
             0,
             "#0d0887"
            ],
            [
             0.1111111111111111,
             "#46039f"
            ],
            [
             0.2222222222222222,
             "#7201a8"
            ],
            [
             0.3333333333333333,
             "#9c179e"
            ],
            [
             0.4444444444444444,
             "#bd3786"
            ],
            [
             0.5555555555555556,
             "#d8576b"
            ],
            [
             0.6666666666666666,
             "#ed7953"
            ],
            [
             0.7777777777777778,
             "#fb9f3a"
            ],
            [
             0.8888888888888888,
             "#fdca26"
            ],
            [
             1,
             "#f0f921"
            ]
           ]
          },
          "colorway": [
           "#636efa",
           "#EF553B",
           "#00cc96",
           "#ab63fa",
           "#FFA15A",
           "#19d3f3",
           "#FF6692",
           "#B6E880",
           "#FF97FF",
           "#FECB52"
          ],
          "font": {
           "color": "#2a3f5f"
          },
          "geo": {
           "bgcolor": "white",
           "lakecolor": "white",
           "landcolor": "#E5ECF6",
           "showlakes": true,
           "showland": true,
           "subunitcolor": "white"
          },
          "hoverlabel": {
           "align": "left"
          },
          "hovermode": "closest",
          "mapbox": {
           "style": "light"
          },
          "paper_bgcolor": "white",
          "plot_bgcolor": "#E5ECF6",
          "polar": {
           "angularaxis": {
            "gridcolor": "white",
            "linecolor": "white",
            "ticks": ""
           },
           "bgcolor": "#E5ECF6",
           "radialaxis": {
            "gridcolor": "white",
            "linecolor": "white",
            "ticks": ""
           }
          },
          "scene": {
           "xaxis": {
            "backgroundcolor": "#E5ECF6",
            "gridcolor": "white",
            "gridwidth": 2,
            "linecolor": "white",
            "showbackground": true,
            "ticks": "",
            "zerolinecolor": "white"
           },
           "yaxis": {
            "backgroundcolor": "#E5ECF6",
            "gridcolor": "white",
            "gridwidth": 2,
            "linecolor": "white",
            "showbackground": true,
            "ticks": "",
            "zerolinecolor": "white"
           },
           "zaxis": {
            "backgroundcolor": "#E5ECF6",
            "gridcolor": "white",
            "gridwidth": 2,
            "linecolor": "white",
            "showbackground": true,
            "ticks": "",
            "zerolinecolor": "white"
           }
          },
          "shapedefaults": {
           "line": {
            "color": "#2a3f5f"
           }
          },
          "ternary": {
           "aaxis": {
            "gridcolor": "white",
            "linecolor": "white",
            "ticks": ""
           },
           "baxis": {
            "gridcolor": "white",
            "linecolor": "white",
            "ticks": ""
           },
           "bgcolor": "#E5ECF6",
           "caxis": {
            "gridcolor": "white",
            "linecolor": "white",
            "ticks": ""
           }
          },
          "title": {
           "x": 0.05
          },
          "xaxis": {
           "automargin": true,
           "gridcolor": "white",
           "linecolor": "white",
           "ticks": "",
           "title": {
            "standoff": 15
           },
           "zerolinecolor": "white",
           "zerolinewidth": 2
          },
          "yaxis": {
           "automargin": true,
           "gridcolor": "white",
           "linecolor": "white",
           "ticks": "",
           "title": {
            "standoff": 15
           },
           "zerolinecolor": "white",
           "zerolinewidth": 2
          }
         }
        },
        "title": {
         "font": {
          "family": "C059",
          "size": 20
         },
         "x": 0.5,
         "xanchor": "center",
         "yanchor": "top"
        }
       }
      }
     },
     "metadata": {},
     "output_type": "display_data"
    }
   ],
   "source": [
    "# Sort the DataFrame by parent_group\n",
    "df_sorted = df.sort_values(by='parent_group')\n",
    "\n",
    "# Create the sunburst plot\n",
    "fig = px.sunburst(df, path=['root', 'parent_group', 'functional_group', 'compound_id'],\n",
    "                  color='functional_group', color_discrete_sequence=px.colors.qualitative.Prism)\n",
    "\n",
    "fig.update_layout(\n",
    "    margin=dict(t=10, l=10, r=10, b=10),\n",
    "    height=1000,\n",
    "    font=dict(\n",
    "        family=\"C059\",  # Set the font to \"C059\"\n",
    "        size=28,        # Adjust font size if needed\n",
    "        color=\"black\"   # Set font color\n",
    "\n",
    "    ),\n",
    "    title=dict(\n",
    "        #text=\"Chemical Compounds Hierarchy\",\n",
    "        font=dict(\n",
    "            family=\"C059\",\n",
    "            size=20\n",
    "        ),\n",
    "        x=0.5,  # Center the title\n",
    "        xanchor=\"center\",  # Align the title horizontally\n",
    "        yanchor=\"top\"      # Align the title vertically\n",
    "    )\n",
    ")\n",
    "fig.update_traces(sort=False, selector=dict(type='sunburst'))\n",
    "fig.update_traces(hovertemplate=\"%{label} <br>%{value:.1f} tCO\\u2082e <extra></extra>\",insidetextorientation='radial')\n",
    "fig.update_traces(\n",
    "    marker_colors=list(color_mapping),\n",
    "    # [\n",
    "    #     px.colors.qualitative.D3[c] for c in pd.factorize(fig.data[0].labels)[0][:7]\n",
    "    # ],\n",
    "    leaf_opacity=1,\n",
    ")\n",
    "\n",
    "#fig.write_image(\"sunburst_plot_sorted.svg\", format=\"svg\")\n",
    "fig.show()"
   ]
  },
  {
   "cell_type": "code",
   "execution_count": null,
   "id": "308e0211",
   "metadata": {},
   "outputs": [
    {
     "data": {
      "text/plain": [
       "['#FFFFFF',\n",
       " '#be151a',\n",
       " '#de2b25',\n",
       " '#ee3a2c',\n",
       " '#f44f39',\n",
       " '#f96346',\n",
       " '#fcab8f',\n",
       " '#ad1117',\n",
       " '#440154',\n",
       " '#440154',\n",
       " '#440154',\n",
       " '#440154',\n",
       " '#440154',\n",
       " '#440154',\n",
       " '#48186a',\n",
       " '#472d7b',\n",
       " '#472d7b',\n",
       " '#472d7b',\n",
       " '#472d7b',\n",
       " '#424186',\n",
       " '#424186',\n",
       " '#424186',\n",
       " '#424186',\n",
       " '#424186',\n",
       " '#3a538b',\n",
       " '#3a538b',\n",
       " '#3a538b',\n",
       " '#3a538b',\n",
       " '#3a538b',\n",
       " '#3a538b',\n",
       " '#32658e',\n",
       " '#32658e',\n",
       " '#32658e',\n",
       " '#32658e',\n",
       " '#32658e',\n",
       " '#32658e',\n",
       " '#2b748e',\n",
       " '#2b748e',\n",
       " '#2b748e',\n",
       " '#2b748e',\n",
       " '#25848e',\n",
       " '#25848e',\n",
       " '#25848e',\n",
       " '#25848e',\n",
       " '#20938c',\n",
       " '#20a386',\n",
       " '#20a386',\n",
       " '#2db27d',\n",
       " '#2db27d',\n",
       " '#2db27d',\n",
       " '#2db27d',\n",
       " '#48c16e',\n",
       " '#48c16e',\n",
       " '#48c16e',\n",
       " '#69cd5b',\n",
       " '#90d743',\n",
       " '#bddf26']"
      ]
     },
     "execution_count": 63,
     "metadata": {},
     "output_type": "execute_result"
    }
   ],
   "source": [
    "['#FFFFFF',\n",
    " '#be151a',\n",
    " '#de2b25',\n",
    " '#ee3a2c',\n",
    " '#f44f39',\n",
    " '#f96346',\n",
    " '#fcab8f',\n",
    " '#ad1117',\n",
    " '#440154',\n",
    " '#440154',\n",
    " '#440154',\n",
    " '#440154',\n",
    " '#440154',\n",
    " '#440154',"
   ]
  },
  {
   "cell_type": "code",
   "execution_count": 51,
   "id": "5a31b350",
   "metadata": {},
   "outputs": [],
   "source": [
    "plt.style.use('../../../CVSampler/NoteBooks/style.txt')\n",
    "plt.rcParams['font.family']  = 'C059'"
   ]
  },
  {
   "cell_type": "code",
   "execution_count": 194,
   "id": "4032036b",
   "metadata": {},
   "outputs": [
    {
     "data": {
      "image/png": "[encoded data removed]",
      "text/plain": [
       "<Figure size 600x100 with 1 Axes>"
      ]
     },
     "metadata": {},
     "output_type": "display_data"
    }
   ],
   "source": [
    "import numpy as np\n",
    "import matplotlib.pyplot as plt\n",
    "from matplotlib.colors import BoundaryNorm\n",
    "\n",
    "# Define the range for the color bar\n",
    "min_val, max_val = 1, 4.0  # Start at 0.3 for better comparison\n",
    "boundaries = np.arange(min_val, max_val + 0.25, 0.25)  # Define discrete intervals\n",
    "\n",
    "# Create a figure and axis\n",
    "fig, ax = plt.subplots(figsize=(6, 1))\n",
    "fig.subplots_adjust(bottom=0.5)\n",
    "\n",
    "# Create a color bar using the Reds colormap\n",
    "cmap = plt.cm.Reds\n",
    "norm = BoundaryNorm(boundaries, cmap.N, clip=True)\n",
    "cb = plt.colorbar(plt.cm.ScalarMappable(norm=norm, cmap=cmap), cax=ax, orientation='horizontal')\n",
    "\n",
    "# Add labels and title\n",
    "cb.set_label(r\"$\\rm |\\Delta G^{Experimental}_{solv} - \\Delta G^{Predicted}_{solv}| \\ (kcal/mol)$\",\n",
    "             fontdict={'fontsize': 20}, color='navy')\n",
    "\n",
    "#plt.xticks([2. , 2.5, 3, 3.5, 4.0, 4.5, 5.0], [2.0 ,2.0, 2.5, 3, 3.5, 4.0, 4.5])\n",
    "\n",
    "plt.xlim(2.0, 4.0)\n",
    "\n",
    "labels = ['D1', 'D2', 'D3', 'D4', 'D5', 'D6', 'D7', 'D8']\n",
    "positions = np.linspace(2.0, 4.5, 11)  # Positions for annotations\n",
    "for pos, label in zip(positions, labels):\n",
    "    ax.text(pos + 0.15, 0.5, label, ha='center', va='center', fontsize=10, transform=ax.transData)\n",
    "\n",
    "#plt.xticks([])\n",
    "#plt.show()\n"
   ]
  },
  {
   "cell_type": "code",
   "execution_count": null,
   "id": "88c8feef",
   "metadata": {},
   "outputs": [
    {
     "data": {
      "text/plain": [
       "(array([0. , 0.2, 0.4, 0.6, 0.8, 1. ]),\n",
       " [Text(0.0, 0, '$\\\\mathdefault{0.0}$'),\n",
       "  Text(0.2, 0, '$\\\\mathdefault{0.2}$'),\n",
       "  Text(0.4, 0, '$\\\\mathdefault{0.4}$'),\n",
       "  Text(0.6000000000000001, 0, '$\\\\mathdefault{0.6}$'),\n",
       "  Text(0.8, 0, '$\\\\mathdefault{0.8}$'),\n",
       "  Text(1.0, 0, '$\\\\mathdefault{1.0}$')])"
      ]
     },
     "execution_count": 166,
     "metadata": {},
     "output_type": "execute_result"
    },
    {
     "data": {
      "image/png": "[encoded data removed]",
      "text/plain": [
       "<Figure size 640x480 with 1 Axes>"
      ]
     },
     "metadata": {},
     "output_type": "display_data"
    }
   ],
   "source": []
  },
  {
   "cell_type": "code",
   "execution_count": null,
   "id": "d6899669",
   "metadata": {},
   "outputs": [],
   "source": []
  },
  {
   "cell_type": "code",
   "execution_count": 95,
   "id": "f3a88bf1",
   "metadata": {},
   "outputs": [
    {
     "data": {
      "text/plain": [
       "array([1.        , 0.96078431, 0.94117647, 1.        ])"
      ]
     },
     "execution_count": 95,
     "metadata": {},
     "output_type": "execute_result"
    }
   ],
   "source": [
    "plt.cm.Reds.get_under()"
   ]
  },
  {
   "cell_type": "code",
   "execution_count": 160,
   "id": "72795470",
   "metadata": {},
   "outputs": [
    {
     "data": {
      "image/png": "[encoded data removed]",
      "text/plain": [
       "<Figure size 800x200 with 1 Axes>"
      ]
     },
     "metadata": {},
     "output_type": "display_data"
    }
   ],
   "source": [
    "import matplotlib.pyplot as plt\n",
    "import numpy as np\n",
    "from matplotlib.colors import BoundaryNorm\n",
    "\n",
    "# Create figure\n",
    "fig, ax = plt.subplots(figsize=(8, 2))\n",
    "fig.subplots_adjust(bottom=0.5)\n",
    "\n",
    "# Define discrete boundaries from 0.3 to 1.0\n",
    "boundaries = np.linspace(0.0, 1.0, 12)  # 7 discrete intervals\n",
    "\n",
    "# Create discrete colormap\n",
    "reds_cmap = plt.cm.Reds\n",
    "norm = BoundaryNorm(boundaries, reds_cmap.N, clip=True)\n",
    "\n",
    "# Create colorbar\n",
    "cb = plt.colorbar(plt.cm.ScalarMappable(norm=norm, cmap=reds_cmap),\n",
    "                 cax=ax,\n",
    "                 orientation='horizontal',\n",
    "                 boundaries=boundaries,\n",
    "                 ticks=boundaries,\n",
    "                 label='Discrete Value Ranges')\n",
    "\n",
    "cb.set_ticks(np.linspace(0.0, 1., 12)[::2])\n",
    "#cb.set_ticklabels(int(np.linspace(1., 5, 12)[::2]))\n",
    "\n",
    "# Add annotations for D1 - D8\n",
    "labels = ['D1', 'D2', 'D3', 'D4', 'D5', 'D6', 'D7', 'D8']\n",
    "positions = np.linspace(0.3, 1.0, 12)  # Positions for annotations\n",
    "for pos, label in zip(positions, labels):\n",
    "    ax.text(pos + 0.025, 0.5, label, ha='center', va='center', fontsize=10, transform=ax.transData)\n",
    "\n",
    "# Show plot\n",
    "plt.show()"
   ]
  },
  {
   "cell_type": "code",
   "execution_count": 150,
   "id": "16c3c6d3",
   "metadata": {},
   "outputs": [],
   "source": [
    "positions = np.linspace(0.3, 1.0, 12)  # Positions for annotations"
   ]
  },
  {
   "cell_type": "code",
   "execution_count": 153,
   "id": "8d074728",
   "metadata": {},
   "outputs": [
    {
     "data": {
      "text/plain": [
       "np.float64(4.714285714285713)"
      ]
     },
     "execution_count": 153,
     "metadata": {},
     "output_type": "execute_result"
    }
   ],
   "source": [
    "0.3/(positions[1] - positions[0])"
   ]
  },
  {
   "cell_type": "code",
   "execution_count": 154,
   "id": "bf3b4d7d",
   "metadata": {},
   "outputs": [
    {
     "data": {
      "text/plain": [
       "1.1775"
      ]
     },
     "execution_count": 154,
     "metadata": {},
     "output_type": "execute_result"
    }
   ],
   "source": [
    "4.71*0.25"
   ]
  },
  {
   "cell_type": "code",
   "execution_count": 136,
   "id": "af9f8a91",
   "metadata": {},
   "outputs": [
    {
     "data": {
      "text/plain": [
       "array([2.  , 2.25, 2.5 , 2.75, 3.  , 3.25, 3.5 , 3.75, 4.  , 4.25, 4.5 ,\n",
       "       4.75])"
      ]
     },
     "execution_count": 136,
     "metadata": {},
     "output_type": "execute_result"
    }
   ],
   "source": [
    "np.arange(2, 5, 0.25)"
   ]
  },
  {
   "cell_type": "code",
   "execution_count": 66,
   "id": "7827d8c7",
   "metadata": {},
   "outputs": [
    {
     "name": "stdout",
     "output_type": "stream",
     "text": [
      "Functional Groups: #FFFFFF\n",
      "D7: #a50f15\n",
      "D5: #cc191e\n",
      "D4: #de2b25\n",
      "D3: #f03d2d\n",
      "D2: #f6563d\n",
      "D1: #fcab8f\n",
      "D8: #860811\n",
      "alcohol: #440154\n",
      "alcohol: #440154\n",
      "alcohol: #440154\n",
      "alcohol: #440154\n",
      "alcohol: #440154\n",
      "alcohol: #440154\n",
      "alkene: #48186a\n",
      "amine: #472d7b\n",
      "amine: #472d7b\n",
      "amine: #472d7b\n",
      "amine: #472d7b\n",
      "carboxylic_acid: #424186\n",
      "carboxylic_acid: #424186\n",
      "carboxylic_acid: #424186\n",
      "carboxylic_acid: #424186\n",
      "carboxylic_acid: #424186\n",
      "ester: #3a538b\n",
      "ester: #3a538b\n",
      "ester: #3a538b\n",
      "ester: #3a538b\n",
      "ester: #3a538b\n",
      "ester: #3a538b\n",
      "ether: #32658e\n",
      "ether: #32658e\n",
      "ether: #32658e\n",
      "ether: #32658e\n",
      "ether: #32658e\n",
      "ether: #32658e\n",
      "haloalkane: #2b748e\n",
      "haloalkane: #2b748e\n",
      "haloalkane: #2b748e\n",
      "haloalkane: #2b748e\n",
      "ketone: #25848e\n",
      "ketone: #25848e\n",
      "ketone: #25848e\n",
      "ketone: #25848e\n",
      "nitro: #20938c\n",
      "phenol: #20a386\n",
      "phenol: #20a386\n",
      "polyol: #2db27d\n",
      "polyol: #2db27d\n",
      "polyol: #2db27d\n",
      "polyol: #2db27d\n",
      "primary_amine: #48c16e\n",
      "primary_amine: #48c16e\n",
      "primary_amine: #48c16e\n",
      "pyridyl: #69cd5b\n",
      "sulfide: #90d743\n",
      "sulfone: #bddf26\n",
      "\n",
      "Hex codes array:\n",
      "['#FFFFFF', '#a50f15', '#cc191e', '#de2b25', '#f03d2d', '#f6563d', '#fcab8f', '#860811', '#440154', '#440154', '#440154', '#440154', '#440154', '#440154', '#48186a', '#472d7b', '#472d7b', '#472d7b', '#472d7b', '#424186', '#424186', '#424186', '#424186', '#424186', '#3a538b', '#3a538b', '#3a538b', '#3a538b', '#3a538b', '#3a538b', '#32658e', '#32658e', '#32658e', '#32658e', '#32658e', '#32658e', '#2b748e', '#2b748e', '#2b748e', '#2b748e', '#25848e', '#25848e', '#25848e', '#25848e', '#20938c', '#20a386', '#20a386', '#2db27d', '#2db27d', '#2db27d', '#2db27d', '#48c16e', '#48c16e', '#48c16e', '#69cd5b', '#90d743', '#bddf26']\n"
     ]
    }
   ],
   "source": [
    "import matplotlib.pyplot as plt\n",
    "import numpy as np\n",
    "from matplotlib.colors import to_hex\n",
    "\n",
    "def create_color_mapping(labels):\n",
    "    # Separate D-groups and functional groups\n",
    "    d_groups = [label for label in labels if label.startswith('D')]\n",
    "    d_groups = [f'D{i}' for i in range(1, 13)]\n",
    "    functional_groups = [label for label in labels\n",
    "                       if not label.startswith('D') and label != 'Functional Groups']\n",
    "\n",
    "    # Create color maps\n",
    "    reds_map = plt.cm.Reds\n",
    "    spectral_map = plt.cm.viridis\n",
    "\n",
    "    # Generate colors for D-groups (using Reds)\n",
    "    d_group_colors = [to_hex(reds_map(i)) for i in np.linspace(0.3, 1.0, len(d_groups))]\n",
    "    d_color_map = {d: color for d, color in zip(sorted(d_groups), d_group_colors)}\n",
    "\n",
    "    # Generate colors for functional groups (using nipy_spectral)\n",
    "    unique_func_groups = sorted(list(set(functional_groups)))\n",
    "    func_colors = [to_hex(spectral_map(i))\n",
    "                  for i in np.linspace(0, 0.9, len(unique_func_groups))]\n",
    "    func_color_map = {fg: color for fg, color in zip(unique_func_groups, func_colors)}\n",
    "\n",
    "    # Create final color array\n",
    "    color_array = []\n",
    "    for label in labels:\n",
    "        if label == 'Functional Groups':\n",
    "            color_array.append('#FFFFFF')  # White for root\n",
    "        elif label in d_color_map:\n",
    "            color_array.append(d_color_map[label])\n",
    "        else:\n",
    "            color_array.append(func_color_map[label])\n",
    "\n",
    "    return color_array\n",
    "\n",
    "# Your labels array\n",
    "labels = ['Functional Groups', 'D7', 'D5', 'D4', 'D3', 'D2', 'D1', 'D8',\n",
    "       'alcohol', 'alcohol', 'alcohol', 'alcohol', 'alcohol', 'alcohol',\n",
    "       'alkene', 'amine', 'amine', 'amine', 'amine', 'carboxylic_acid',\n",
    "       'carboxylic_acid', 'carboxylic_acid', 'carboxylic_acid',\n",
    "       'carboxylic_acid', 'ester', 'ester', 'ester', 'ester', 'ester',\n",
    "       'ester', 'ether', 'ether', 'ether', 'ether', 'ether', 'ether',\n",
    "       'haloalkane', 'haloalkane', 'haloalkane', 'haloalkane', 'ketone',\n",
    "       'ketone', 'ketone', 'ketone', 'nitro', 'phenol', 'phenol',\n",
    "       'polyol', 'polyol', 'polyol', 'polyol', 'primary_amine',\n",
    "       'primary_amine', 'primary_amine', 'pyridyl', 'sulfide', 'sulfone']\n",
    "\n",
    "# Get color mapping\n",
    "color_mapping = create_color_mapping(labels)\n",
    "\n",
    "# Print the color mapping\n",
    "for label, color in zip(labels, color_mapping):\n",
    "    print(f\"{label}: {color}\")\n",
    "\n",
    "# Return just the hex codes array\n",
    "print(\"\\nHex codes array:\")\n",
    "print(color_mapping)"
   ]
  },
  {
   "cell_type": "code",
   "execution_count": 35,
   "id": "560301a6",
   "metadata": {},
   "outputs": [
    {
     "data": {
      "text/plain": [
       "['#1F77B4', '#FF7F0E', '#2CA02C', '#D62728', '#9467BD', '#8C564B', '#E377C2']"
      ]
     },
     "execution_count": 35,
     "metadata": {},
     "output_type": "execute_result"
    }
   ],
   "source": [
    "[px.colors.qualitative.D3[c] for c in pd.factorize(fig.data[0].labels)[0][:7]]"
   ]
  },
  {
   "cell_type": "code",
   "execution_count": null,
   "id": "212f19ec",
   "metadata": {},
   "outputs": [
    {
     "data": {
      "application/vnd.plotly.v1+json": {
       "config": {
        "plotlyServerURL": "https://plot.ly"
       },
       "data": [
        {
         "domain": {
          "x": [
           0,
           1
          ],
          "y": [
           0,
           1
          ]
         },
         "hovertemplate": "country=%{label}<br>continent=%{parent}<extra></extra>",
         "labels": [
          "Europe",
          "Asia",
          "France",
          "Germany",
          "Italy",
          "Spain",
          "United Kingdom",
          "Taiwan",
          "Japan",
          "Korean",
          "China"
         ],
         "name": "",
         "parents": [
          "Total",
          "Total",
          "Europe",
          "Europe",
          "Europe",
          "Europe",
          "Europe",
          "Asia",
          "Asia",
          "Asia",
          "Asia"
         ],
         "type": "sunburst"
        }
       ],
       "layout": {
        "legend": {
         "tracegroupgap": 0
        },
        "template": {
         "data": {
          "bar": [
           {
            "error_x": {
             "color": "#2a3f5f"
            },
            "error_y": {
             "color": "#2a3f5f"
            },
            "marker": {
             "line": {
              "color": "#E5ECF6",
              "width": 0.5
             },
             "pattern": {
              "fillmode": "overlay",
              "size": 10,
              "solidity": 0.2
             }
            },
            "type": "bar"
           }
          ],
          "barpolar": [
           {
            "marker": {
             "line": {
              "color": "#E5ECF6",
              "width": 0.5
             },
             "pattern": {
              "fillmode": "overlay",
              "size": 10,
              "solidity": 0.2
             }
            },
            "type": "barpolar"
           }
          ],
          "carpet": [
           {
            "aaxis": {
             "endlinecolor": "#2a3f5f",
             "gridcolor": "white",
             "linecolor": "white",
             "minorgridcolor": "white",
             "startlinecolor": "#2a3f5f"
            },
            "baxis": {
             "endlinecolor": "#2a3f5f",
             "gridcolor": "white",
             "linecolor": "white",
             "minorgridcolor": "white",
             "startlinecolor": "#2a3f5f"
            },
            "type": "carpet"
           }
          ],
          "choropleth": [
           {
            "colorbar": {
             "outlinewidth": 0,
             "ticks": ""
            },
            "type": "choropleth"
           }
          ],
          "contour": [
           {
            "colorbar": {
             "outlinewidth": 0,
             "ticks": ""
            },
            "colorscale": [
             [
              0,
              "#0d0887"
             ],
             [
              0.1111111111111111,
              "#46039f"
             ],
             [
              0.2222222222222222,
              "#7201a8"
             ],
             [
              0.3333333333333333,
              "#9c179e"
             ],
             [
              0.4444444444444444,
              "#bd3786"
             ],
             [
              0.5555555555555556,
              "#d8576b"
             ],
             [
              0.6666666666666666,
              "#ed7953"
             ],
             [
              0.7777777777777778,
              "#fb9f3a"
             ],
             [
              0.8888888888888888,
              "#fdca26"
             ],
             [
              1,
              "#f0f921"
             ]
            ],
            "type": "contour"
           }
          ],
          "contourcarpet": [
           {
            "colorbar": {
             "outlinewidth": 0,
             "ticks": ""
            },
            "type": "contourcarpet"
           }
          ],
          "heatmap": [
           {
            "colorbar": {
             "outlinewidth": 0,
             "ticks": ""
            },
            "colorscale": [
             [
              0,
              "#0d0887"
             ],
             [
              0.1111111111111111,
              "#46039f"
             ],
             [
              0.2222222222222222,
              "#7201a8"
             ],
             [
              0.3333333333333333,
              "#9c179e"
             ],
             [
              0.4444444444444444,
              "#bd3786"
             ],
             [
              0.5555555555555556,
              "#d8576b"
             ],
             [
              0.6666666666666666,
              "#ed7953"
             ],
             [
              0.7777777777777778,
              "#fb9f3a"
             ],
             [
              0.8888888888888888,
              "#fdca26"
             ],
             [
              1,
              "#f0f921"
             ]
            ],
            "type": "heatmap"
           }
          ],
          "histogram": [
           {
            "marker": {
             "pattern": {
              "fillmode": "overlay",
              "size": 10,
              "solidity": 0.2
             }
            },
            "type": "histogram"
           }
          ],
          "histogram2d": [
           {
            "colorbar": {
             "outlinewidth": 0,
             "ticks": ""
            },
            "colorscale": [
             [
              0,
              "#0d0887"
             ],
             [
              0.1111111111111111,
              "#46039f"
             ],
             [
              0.2222222222222222,
              "#7201a8"
             ],
             [
              0.3333333333333333,
              "#9c179e"
             ],
             [
              0.4444444444444444,
              "#bd3786"
             ],
             [
              0.5555555555555556,
              "#d8576b"
             ],
             [
              0.6666666666666666,
              "#ed7953"
             ],
             [
              0.7777777777777778,
              "#fb9f3a"
             ],
             [
              0.8888888888888888,
              "#fdca26"
             ],
             [
              1,
              "#f0f921"
             ]
            ],
            "type": "histogram2d"
           }
          ],
          "histogram2dcontour": [
           {
            "colorbar": {
             "outlinewidth": 0,
             "ticks": ""
            },
            "colorscale": [
             [
              0,
              "#0d0887"
             ],
             [
              0.1111111111111111,
              "#46039f"
             ],
             [
              0.2222222222222222,
              "#7201a8"
             ],
             [
              0.3333333333333333,
              "#9c179e"
             ],
             [
              0.4444444444444444,
              "#bd3786"
             ],
             [
              0.5555555555555556,
              "#d8576b"
             ],
             [
              0.6666666666666666,
              "#ed7953"
             ],
             [
              0.7777777777777778,
              "#fb9f3a"
             ],
             [
              0.8888888888888888,
              "#fdca26"
             ],
             [
              1,
              "#f0f921"
             ]
            ],
            "type": "histogram2dcontour"
           }
          ],
          "mesh3d": [
           {
            "colorbar": {
             "outlinewidth": 0,
             "ticks": ""
            },
            "type": "mesh3d"
           }
          ],
          "parcoords": [
           {
            "line": {
             "colorbar": {
              "outlinewidth": 0,
              "ticks": ""
             }
            },
            "type": "parcoords"
           }
          ],
          "pie": [
           {
            "automargin": true,
            "type": "pie"
           }
          ],
          "scatter": [
           {
            "fillpattern": {
             "fillmode": "overlay",
             "size": 10,
             "solidity": 0.2
            },
            "type": "scatter"
           }
          ],
          "scatter3d": [
           {
            "line": {
             "colorbar": {
              "outlinewidth": 0,
              "ticks": ""
             }
            },
            "marker": {
             "colorbar": {
              "outlinewidth": 0,
              "ticks": ""
             }
            },
            "type": "scatter3d"
           }
          ],
          "scattercarpet": [
           {
            "marker": {
             "colorbar": {
              "outlinewidth": 0,
              "ticks": ""
             }
            },
            "type": "scattercarpet"
           }
          ],
          "scattergeo": [
           {
            "marker": {
             "colorbar": {
              "outlinewidth": 0,
              "ticks": ""
             }
            },
            "type": "scattergeo"
           }
          ],
          "scattergl": [
           {
            "marker": {
             "colorbar": {
              "outlinewidth": 0,
              "ticks": ""
             }
            },
            "type": "scattergl"
           }
          ],
          "scattermap": [
           {
            "marker": {
             "colorbar": {
              "outlinewidth": 0,
              "ticks": ""
             }
            },
            "type": "scattermap"
           }
          ],
          "scattermapbox": [
           {
            "marker": {
             "colorbar": {
              "outlinewidth": 0,
              "ticks": ""
             }
            },
            "type": "scattermapbox"
           }
          ],
          "scatterpolar": [
           {
            "marker": {
             "colorbar": {
              "outlinewidth": 0,
              "ticks": ""
             }
            },
            "type": "scatterpolar"
           }
          ],
          "scatterpolargl": [
           {
            "marker": {
             "colorbar": {
              "outlinewidth": 0,
              "ticks": ""
             }
            },
            "type": "scatterpolargl"
           }
          ],
          "scatterternary": [
           {
            "marker": {
             "colorbar": {
              "outlinewidth": 0,
              "ticks": ""
             }
            },
            "type": "scatterternary"
           }
          ],
          "surface": [
           {
            "colorbar": {
             "outlinewidth": 0,
             "ticks": ""
            },
            "colorscale": [
             [
              0,
              "#0d0887"
             ],
             [
              0.1111111111111111,
              "#46039f"
             ],
             [
              0.2222222222222222,
              "#7201a8"
             ],
             [
              0.3333333333333333,
              "#9c179e"
             ],
             [
              0.4444444444444444,
              "#bd3786"
             ],
             [
              0.5555555555555556,
              "#d8576b"
             ],
             [
              0.6666666666666666,
              "#ed7953"
             ],
             [
              0.7777777777777778,
              "#fb9f3a"
             ],
             [
              0.8888888888888888,
              "#fdca26"
             ],
             [
              1,
              "#f0f921"
             ]
            ],
            "type": "surface"
           }
          ],
          "table": [
           {
            "cells": {
             "fill": {
              "color": "#EBF0F8"
             },
             "line": {
              "color": "white"
             }
            },
            "header": {
             "fill": {
              "color": "#C8D4E3"
             },
             "line": {
              "color": "white"
             }
            },
            "type": "table"
           }
          ]
         },
         "layout": {
          "annotationdefaults": {
           "arrowcolor": "#2a3f5f",
           "arrowhead": 0,
           "arrowwidth": 1
          },
          "autotypenumbers": "strict",
          "coloraxis": {
           "colorbar": {
            "outlinewidth": 0,
            "ticks": ""
           }
          },
          "colorscale": {
           "diverging": [
            [
             0,
             "#8e0152"
            ],
            [
             0.1,
             "#c51b7d"
            ],
            [
             0.2,
             "#de77ae"
            ],
            [
             0.3,
             "#f1b6da"
            ],
            [
             0.4,
             "#fde0ef"
            ],
            [
             0.5,
             "#f7f7f7"
            ],
            [
             0.6,
             "#e6f5d0"
            ],
            [
             0.7,
             "#b8e186"
            ],
            [
             0.8,
             "#7fbc41"
            ],
            [
             0.9,
             "#4d9221"
            ],
            [
             1,
             "#276419"
            ]
           ],
           "sequential": [
            [
             0,
             "#0d0887"
            ],
            [
             0.1111111111111111,
             "#46039f"
            ],
            [
             0.2222222222222222,
             "#7201a8"
            ],
            [
             0.3333333333333333,
             "#9c179e"
            ],
            [
             0.4444444444444444,
             "#bd3786"
            ],
            [
             0.5555555555555556,
             "#d8576b"
            ],
            [
             0.6666666666666666,
             "#ed7953"
            ],
            [
             0.7777777777777778,
             "#fb9f3a"
            ],
            [
             0.8888888888888888,
             "#fdca26"
            ],
            [
             1,
             "#f0f921"
            ]
           ],
           "sequentialminus": [
            [
             0,
             "#0d0887"
            ],
            [
             0.1111111111111111,
             "#46039f"
            ],
            [
             0.2222222222222222,
             "#7201a8"
            ],
            [
             0.3333333333333333,
             "#9c179e"
            ],
            [
             0.4444444444444444,
             "#bd3786"
            ],
            [
             0.5555555555555556,
             "#d8576b"
            ],
            [
             0.6666666666666666,
             "#ed7953"
            ],
            [
             0.7777777777777778,
             "#fb9f3a"
            ],
            [
             0.8888888888888888,
             "#fdca26"
            ],
            [
             1,
             "#f0f921"
            ]
           ]
          },
          "colorway": [
           "#636efa",
           "#EF553B",
           "#00cc96",
           "#ab63fa",
           "#FFA15A",
           "#19d3f3",
           "#FF6692",
           "#B6E880",
           "#FF97FF",
           "#FECB52"
          ],
          "font": {
           "color": "#2a3f5f"
          },
          "geo": {
           "bgcolor": "white",
           "lakecolor": "white",
           "landcolor": "#E5ECF6",
           "showlakes": true,
           "showland": true,
           "subunitcolor": "white"
          },
          "hoverlabel": {
           "align": "left"
          },
          "hovermode": "closest",
          "mapbox": {
           "style": "light"
          },
          "paper_bgcolor": "white",
          "plot_bgcolor": "#E5ECF6",
          "polar": {
           "angularaxis": {
            "gridcolor": "white",
            "linecolor": "white",
            "ticks": ""
           },
           "bgcolor": "#E5ECF6",
           "radialaxis": {
            "gridcolor": "white",
            "linecolor": "white",
            "ticks": ""
           }
          },
          "scene": {
           "xaxis": {
            "backgroundcolor": "#E5ECF6",
            "gridcolor": "white",
            "gridwidth": 2,
            "linecolor": "white",
            "showbackground": true,
            "ticks": "",
            "zerolinecolor": "white"
           },
           "yaxis": {
            "backgroundcolor": "#E5ECF6",
            "gridcolor": "white",
            "gridwidth": 2,
            "linecolor": "white",
            "showbackground": true,
            "ticks": "",
            "zerolinecolor": "white"
           },
           "zaxis": {
            "backgroundcolor": "#E5ECF6",
            "gridcolor": "white",
            "gridwidth": 2,
            "linecolor": "white",
            "showbackground": true,
            "ticks": "",
            "zerolinecolor": "white"
           }
          },
          "shapedefaults": {
           "line": {
            "color": "#2a3f5f"
           }
          },
          "ternary": {
           "aaxis": {
            "gridcolor": "white",
            "linecolor": "white",
            "ticks": ""
           },
           "baxis": {
            "gridcolor": "white",
            "linecolor": "white",
            "ticks": ""
           },
           "bgcolor": "#E5ECF6",
           "caxis": {
            "gridcolor": "white",
            "linecolor": "white",
            "ticks": ""
           }
          },
          "title": {
           "x": 0.05
          },
          "xaxis": {
           "automargin": true,
           "gridcolor": "white",
           "linecolor": "white",
           "ticks": "",
           "title": {
            "standoff": 15
           },
           "zerolinecolor": "white",
           "zerolinewidth": 2
          },
          "yaxis": {
           "automargin": true,
           "gridcolor": "white",
           "linecolor": "white",
           "ticks": "",
           "title": {
            "standoff": 15
           },
           "zerolinecolor": "white",
           "zerolinewidth": 2
          }
         }
        },
        "title": {
         "text": "Population"
        }
       }
      }
     },
     "metadata": {},
     "output_type": "display_data"
    }
   ],
   "source": [
    "df = pd.DataFrame([\n",
    "    ['Europe', 586098529, 'Total'], ['Asia', 3811953827, 'Total'],\n",
    "    ['France', 61083916, 'Europe'], ['Germany', 82400996, 'Europe'], ['Italy', 58147733, 'Europe'],\n",
    "    ['Spain', 40448191, 'Europe'], ['United Kingdom', 60776238, 'Europe'], ['Taiwan', 23174294, 'Asia'],\n",
    "    ['Japan', 127467972, 'Asia'], ['Korean', 49044790, 'Asia'], ['China', 1318683096, 'Asia']],\n",
    "    columns=['country', 'pop', 'continent'])\n",
    "fig = px.sunburst(df, names='country', parents='continent', title='Population')\n",
    "fig.show()"
   ]
  },
  {
   "cell_type": "code",
   "execution_count": null,
   "id": "1cd1991a",
   "metadata": {},
   "outputs": [
    {
     "data": {
      "text/html": [
       "<div>\n",
       "<style scoped>\n",
       "    .dataframe tbody tr th:only-of-type {\n",
       "        vertical-align: middle;\n",
       "    }\n",
       "\n",
       "    .dataframe tbody tr th {\n",
       "        vertical-align: top;\n",
       "    }\n",
       "\n",
       "    .dataframe thead th {\n",
       "        text-align: right;\n",
       "    }\n",
       "</style>\n",
       "<table border=\"1\" class=\"dataframe\">\n",
       "  <thead>\n",
       "    <tr style=\"text-align: right;\">\n",
       "      <th></th>\n",
       "      <th>functional_group</th>\n",
       "      <th>parent_group</th>\n",
       "      <th>compound_id</th>\n",
       "    </tr>\n",
       "  </thead>\n",
       "  <tbody>\n",
       "    <tr>\n",
       "      <th>0</th>\n",
       "      <td></td>\n",
       "      <td>All</td>\n",
       "      <td></td>\n",
       "    </tr>\n",
       "    <tr>\n",
       "      <th>1</th>\n",
       "      <td>alcohol</td>\n",
       "      <td>D1</td>\n",
       "      <td>16</td>\n",
       "    </tr>\n",
       "    <tr>\n",
       "      <th>2</th>\n",
       "      <td>alcohol</td>\n",
       "      <td>D1</td>\n",
       "      <td>9</td>\n",
       "    </tr>\n",
       "    <tr>\n",
       "      <th>3</th>\n",
       "      <td>alcohol</td>\n",
       "      <td>D1</td>\n",
       "      <td>2</td>\n",
       "    </tr>\n",
       "    <tr>\n",
       "      <th>4</th>\n",
       "      <td>alcohol</td>\n",
       "      <td>D1</td>\n",
       "      <td>12</td>\n",
       "    </tr>\n",
       "    <tr>\n",
       "      <th>...</th>\n",
       "      <td>...</td>\n",
       "      <td>...</td>\n",
       "      <td>...</td>\n",
       "    </tr>\n",
       "    <tr>\n",
       "      <th>61</th>\n",
       "      <td>ether</td>\n",
       "      <td>D7</td>\n",
       "      <td>3</td>\n",
       "    </tr>\n",
       "    <tr>\n",
       "      <th>62</th>\n",
       "      <td>haloalkane</td>\n",
       "      <td>D7</td>\n",
       "      <td>28</td>\n",
       "    </tr>\n",
       "    <tr>\n",
       "      <th>63</th>\n",
       "      <td>amine</td>\n",
       "      <td>D7</td>\n",
       "      <td>28</td>\n",
       "    </tr>\n",
       "    <tr>\n",
       "      <th>64</th>\n",
       "      <td>ester</td>\n",
       "      <td>D8</td>\n",
       "      <td>15</td>\n",
       "    </tr>\n",
       "    <tr>\n",
       "      <th>65</th>\n",
       "      <td>ether</td>\n",
       "      <td>D8</td>\n",
       "      <td>15</td>\n",
       "    </tr>\n",
       "  </tbody>\n",
       "</table>\n",
       "<p>66 rows × 3 columns</p>\n",
       "</div>"
      ],
      "text/plain": [
       "   functional_group parent_group compound_id\n",
       "0                            All            \n",
       "1           alcohol           D1          16\n",
       "2           alcohol           D1           9\n",
       "3           alcohol           D1           2\n",
       "4           alcohol           D1          12\n",
       "..              ...          ...         ...\n",
       "61            ether           D7           3\n",
       "62       haloalkane           D7          28\n",
       "63            amine           D7          28\n",
       "64            ester           D8          15\n",
       "65            ether           D8          15\n",
       "\n",
       "[66 rows x 3 columns]"
      ]
     },
     "execution_count": 100,
     "metadata": {},
     "output_type": "execute_result"
    }
   ],
   "source": [
    "df"
   ]
  },
  {
   "cell_type": "code",
   "execution_count": null,
   "id": "15cfa930",
   "metadata": {},
   "outputs": [],
   "source": []
  }
 ],
 "metadata": {
  "kernelspec": {
   "display_name": "serb",
   "language": "python",
   "name": "python3"
  },
  "language_info": {
   "codemirror_mode": {
    "name": "ipython",
    "version": 3
   },
   "file_extension": ".py",
   "mimetype": "text/x-python",
   "name": "python",
   "nbconvert_exporter": "python",
   "pygments_lexer": "ipython3",
   "version": "3.9.21"
  }
 },
 "nbformat": 4,
 "nbformat_minor": 5
}
